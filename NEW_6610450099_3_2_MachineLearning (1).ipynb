{
  "nbformat": 4,
  "nbformat_minor": 0,
  "metadata": {
    "colab": {
      "provenance": []
    },
    "kernelspec": {
      "name": "python3",
      "display_name": "Python 3"
    },
    "language_info": {
      "name": "python"
    }
  },
  "cells": [
    {
      "cell_type": "markdown",
      "source": [
        "ไฟล์นี้เป็นการส่งครั้งที่ 2 เนื่องจากครั้งแรกทำการวิเคราะห์เทียบ Decision tree กับ Random Forest แต่ Random Forest มีในสไลด์แล้ว เลยเปลี่ยนเป็นเทียบ Decision tree กับ  Gradient Boosting Machines (GBM) แทนค่ะ\n",
        "\n",
        "ตอนรันไฟล์แรกใหม่วันนี้พบปัญหาการเปิดไฟล์ .csv อันเก่า เลยโหลดข้อมูลใหม่จาก colab ของอาจารย์ ซึ่งข้อมูลต่างกันในส่วนของหัวข้อ ไม่มั่นใจว่ามีผลต่อตัวโมเดล Decision Tree ที่ทำไว้ตอนแรกไหมค่ะ 😥"
      ],
      "metadata": {
        "id": "yJfEP432N9rj"
      }
    },
    {
      "cell_type": "code",
      "execution_count": null,
      "metadata": {
        "id": "81Pk82Yjef68"
      },
      "outputs": [],
      "source": [
        "import pandas as pd\n",
        "from sklearn import tree\n",
        "import pydotplus\n",
        "from sklearn.tree import DecisionTreeClassifier\n",
        "import matplotlib.pyplot as plt\n",
        "import matplotlib.image as pltimg\n",
        "from sklearn.model_selection import train_test_split\n",
        "from sklearn.metrics import accuracy_score\n",
        "from sklearn.metrics import confusion_matrix\n",
        "from sklearn.metrics import classification_report"
      ]
    },
    {
      "cell_type": "code",
      "source": [
        "# โหลดไฟล์ไม่ได้ ขออนุญาตใช้ไฟล์อาจารย์\n",
        "\n",
        "# !wget --no-check-certificate 'https://drive.google.com/file/d/1d_sPCw26jtACd4C7-fRHyT5SH97Tl6r6/view?usp=drive_link' -O diabetes.csv\n",
        "\n",
        "# df = pd.read_csv(\"diabetes.csv\")\n",
        "# print(df)\n",
        "\n",
        "# from google.colab import files\n",
        "# uploaded = files.upload()\n",
        "\n",
        "!wget --no-check-certificate 'https://docs.google.com/uc?export=download&id=1qNpoW6TcRxbt7tSzwgoyLJoLwlUijaGH' -O diabetes.csv\n"
      ],
      "metadata": {
        "colab": {
          "base_uri": "https://localhost:8080/"
        },
        "id": "O-ODRkcrTXh0",
        "outputId": "79ba01df-8d72-48bc-e4a2-d684ab02d48a"
      },
      "execution_count": null,
      "outputs": [
        {
          "output_type": "stream",
          "name": "stdout",
          "text": [
            "--2024-07-16 20:18:24--  https://docs.google.com/uc?export=download&id=1qNpoW6TcRxbt7tSzwgoyLJoLwlUijaGH\n",
            "Resolving docs.google.com (docs.google.com)... 74.125.23.138, 74.125.23.100, 74.125.23.102, ...\n",
            "Connecting to docs.google.com (docs.google.com)|74.125.23.138|:443... connected.\n",
            "HTTP request sent, awaiting response... 303 See Other\n",
            "Location: https://drive.usercontent.google.com/download?id=1qNpoW6TcRxbt7tSzwgoyLJoLwlUijaGH&export=download [following]\n",
            "--2024-07-16 20:18:25--  https://drive.usercontent.google.com/download?id=1qNpoW6TcRxbt7tSzwgoyLJoLwlUijaGH&export=download\n",
            "Resolving drive.usercontent.google.com (drive.usercontent.google.com)... 142.250.157.132, 2404:6800:4008:c13::84\n",
            "Connecting to drive.usercontent.google.com (drive.usercontent.google.com)|142.250.157.132|:443... connected.\n",
            "HTTP request sent, awaiting response... 200 OK\n",
            "Length: 26848 (26K) [application/octet-stream]\n",
            "Saving to: ‘diabetes.csv’\n",
            "\n",
            "diabetes.csv        100%[===================>]  26.22K  --.-KB/s    in 0s      \n",
            "\n",
            "2024-07-16 20:18:28 (83.6 MB/s) - ‘diabetes.csv’ saved [26848/26848]\n",
            "\n"
          ]
        }
      ]
    },
    {
      "cell_type": "code",
      "source": [
        "df = pd.read_csv(\"diabetes.csv\")\n",
        "print(df)"
      ],
      "metadata": {
        "colab": {
          "base_uri": "https://localhost:8080/"
        },
        "id": "IwXHc2ofL8Ni",
        "outputId": "559fac3f-51e8-4c05-d2a2-65e8e977d989"
      },
      "execution_count": null,
      "outputs": [
        {
          "output_type": "stream",
          "name": "stdout",
          "text": [
            "     PatientID  NumberOfPregnant  Glucose  BloodPressure  SkinThickness  \\\n",
            "0            1                 6      148             72             35   \n",
            "1            2                 1       85             66             29   \n",
            "2            3                 8      183             64              0   \n",
            "3            4                 1       89             66             23   \n",
            "4            5                 0      137             40             35   \n",
            "..         ...               ...      ...            ...            ...   \n",
            "763        764                10      101             76             48   \n",
            "764        765                 2      122             70             27   \n",
            "765        766                 5      121             72             23   \n",
            "766        767                 1      126             60              0   \n",
            "767        768                 1       93             70             31   \n",
            "\n",
            "     Insulin   BMI  DiabetesPedigree  Age  HasDiabetes  \n",
            "0          0  33.6             0.627   50            1  \n",
            "1          0  26.6             0.351   31            0  \n",
            "2          0  23.3             0.672   32            1  \n",
            "3         94  28.1             0.167   21            0  \n",
            "4        168  43.1             2.288   33            1  \n",
            "..       ...   ...               ...  ...          ...  \n",
            "763      180  32.9             0.171   63            0  \n",
            "764        0  36.8             0.340   27            0  \n",
            "765      112  26.2             0.245   30            0  \n",
            "766        0  30.1             0.349   47            1  \n",
            "767        0  30.4             0.315   23            0  \n",
            "\n",
            "[768 rows x 10 columns]\n"
          ]
        }
      ]
    },
    {
      "cell_type": "markdown",
      "source": [
        "# ให้นิสิตเขียนโปรแกรมเพื่อจําแนกผู้ป่วยเบาหวาน โดยประยุกต์เทคนิค Classification ของ Python มา 2 เทคนิค และวิเคราะห์เปรียบเทียบผลลัพธ์ที่ได้"
      ],
      "metadata": {
        "id": "pRVgawf0TyA0"
      }
    },
    {
      "cell_type": "markdown",
      "source": [
        "## **1. ใช้ Decision Tree**"
      ],
      "metadata": {
        "id": "izAQxYXiUKcQ"
      }
    },
    {
      "cell_type": "code",
      "source": [
        "# Clean Data ก่อน\n",
        "df.isnull().sum()"
      ],
      "metadata": {
        "colab": {
          "base_uri": "https://localhost:8080/"
        },
        "id": "WzajHVyBUk6G",
        "outputId": "377c3e88-536a-4cb0-b8a2-928114852742"
      },
      "execution_count": null,
      "outputs": [
        {
          "output_type": "execute_result",
          "data": {
            "text/plain": [
              "PatientID           0\n",
              "NumberOfPregnant    0\n",
              "Glucose             0\n",
              "BloodPressure       0\n",
              "SkinThickness       0\n",
              "Insulin             0\n",
              "BMI                 0\n",
              "DiabetesPedigree    0\n",
              "Age                 0\n",
              "HasDiabetes         0\n",
              "dtype: int64"
            ]
          },
          "metadata": {},
          "execution_count": 31
        }
      ]
    },
    {
      "cell_type": "code",
      "source": [
        "# Decision tree จะทำงานกับตัวเลขเท่านั้น ใน Data นี้เป็นตัวเลขอยู่แล้วไปขั้นตอนต่อไปเลย\n",
        "\n",
        "# กำหนด Feature\n",
        "features = ['NumberOfPregnant', 'Glucose', 'BloodPressure', 'SkinThickness', 'Insulin', 'BMI', 'DiabetesPedigree', 'Age']\n",
        "X = df[features]\n",
        "y = df['HasDiabetes'] # Lable (เฉลย)\n",
        "\n",
        "# กำหนดอัลกอริทึม\n",
        "dtree = DecisionTreeClassifier()\n",
        "\n",
        "X_train, X_test, y_train, y_test = train_test_split(X, y, test_size=0.2, random_state=15)\n",
        "dtree = dtree.fit(X_train, y_train) # (input, lable) เรียนรู้ค่าจาก features X และค่าเฉลย y\n",
        "\n",
        "y_predict = dtree.predict(X_test)\n",
        "print(X_test)\n",
        "print(y_predict)\n",
        "\n"
      ],
      "metadata": {
        "colab": {
          "base_uri": "https://localhost:8080/"
        },
        "id": "SyChmXuvVjHd",
        "outputId": "7e049ca0-871d-4e96-fa03-e75d75eb5666"
      },
      "execution_count": null,
      "outputs": [
        {
          "output_type": "stream",
          "name": "stdout",
          "text": [
            "     NumberOfPregnant  Glucose  BloodPressure  SkinThickness  Insulin   BMI  \\\n",
            "343                 5      122             86              0        0  34.7   \n",
            "728                 2      175             88              0        0  22.9   \n",
            "73                  4      129             86             20      270  35.1   \n",
            "254                12       92             62              7      258  27.6   \n",
            "741                 3      102             44             20       94  30.8   \n",
            "..                ...      ...            ...            ...      ...   ...   \n",
            "582                12      121             78             17        0  26.5   \n",
            "652                 5      123             74             40       77  34.1   \n",
            "83                  0      101             65             28        0  24.6   \n",
            "556                 1       97             70             40        0  38.1   \n",
            "267                 2      128             64             42        0  40.0   \n",
            "\n",
            "     DiabetesPedigree  Age  \n",
            "343             0.290   33  \n",
            "728             0.326   22  \n",
            "73              0.231   23  \n",
            "254             0.926   44  \n",
            "741             0.400   26  \n",
            "..                ...  ...  \n",
            "582             0.259   62  \n",
            "652             0.269   28  \n",
            "83              0.237   22  \n",
            "556             0.218   30  \n",
            "267             1.101   24  \n",
            "\n",
            "[154 rows x 8 columns]\n",
            "[0 0 0 0 0 1 1 1 0 1 1 0 0 0 0 1 1 0 0 1 0 1 0 1 1 1 0 0 0 0 0 0 0 1 0 0 0\n",
            " 1 1 1 0 0 0 0 0 0 0 1 1 1 1 0 0 0 0 0 0 0 0 1 0 1 0 1 1 0 0 1 0 0 1 0 0 0\n",
            " 0 0 0 0 1 0 0 0 1 0 1 0 1 1 0 1 1 0 0 0 1 0 0 1 0 1 0 1 1 1 0 1 0 1 0 0 1\n",
            " 0 0 1 0 0 1 0 1 0 0 0 0 0 0 0 1 1 0 0 1 1 0 0 0 0 0 0 1 1 0 1 0 0 0 1 0 1\n",
            " 1 0 0 0 0 1]\n"
          ]
        }
      ]
    },
    {
      "cell_type": "code",
      "source": [
        "# คำนวณหาความแม่นยำ\n",
        "\n",
        "acc = accuracy_score(y_test, y_predict)\n",
        "print(f\"Decision Tree accuracy score : {acc:.2f}\\n\")\n",
        "\n",
        "print(confusion_matrix(y_test, y_predict))"
      ],
      "metadata": {
        "colab": {
          "base_uri": "https://localhost:8080/"
        },
        "id": "8NxxTOBNcYjq",
        "outputId": "b0796a8d-cd29-4b7a-84a4-6f793ecafbed"
      },
      "execution_count": null,
      "outputs": [
        {
          "output_type": "stream",
          "name": "stdout",
          "text": [
            "Decision Tree accuracy score : 0.69\n",
            "\n",
            "[[79 29]\n",
            " [19 27]]\n"
          ]
        }
      ]
    },
    {
      "cell_type": "code",
      "source": [
        "class_report = classification_report(y_test, y_predict, target_names=['0', '1'])\n",
        "print(class_report)"
      ],
      "metadata": {
        "colab": {
          "base_uri": "https://localhost:8080/"
        },
        "id": "vio-H71Xd6av",
        "outputId": "69176ccd-41fe-4abd-9490-42a131b345a6"
      },
      "execution_count": null,
      "outputs": [
        {
          "output_type": "stream",
          "name": "stdout",
          "text": [
            "              precision    recall  f1-score   support\n",
            "\n",
            "           0       0.81      0.73      0.77       108\n",
            "           1       0.48      0.59      0.53        46\n",
            "\n",
            "    accuracy                           0.69       154\n",
            "   macro avg       0.64      0.66      0.65       154\n",
            "weighted avg       0.71      0.69      0.70       154\n",
            "\n"
          ]
        }
      ]
    },
    {
      "cell_type": "code",
      "source": [
        "# ทำ Heat Map\n",
        "import matplotlib.pyplot as plt\n",
        "import seaborn as sns\n",
        "\n",
        "cm = confusion_matrix(y_test, y_predict)\n",
        "ax = plt.subplot()\n",
        "sns.heatmap(cm, annot=True, ax=ax, cmap=\"coolwarm\")\n",
        "\n",
        "ax.set_title(\"Confusion Matrix\")\n",
        "ax.set_xlabel(\"Predicted labels\")\n",
        "ax.set_ylabel(\"Actual labels\")\n",
        "ax.xaxis.set_ticklabels(['0', '1'])\n",
        "ax.yaxis.set_ticklabels(['0', '1'])\n",
        "plt.show()"
      ],
      "metadata": {
        "colab": {
          "base_uri": "https://localhost:8080/",
          "height": 472
        },
        "id": "PaZjI0lTe2BH",
        "outputId": "865ed06c-d123-4955-e8fb-aa902a15ca95"
      },
      "execution_count": null,
      "outputs": [
        {
          "output_type": "display_data",
          "data": {
            "text/plain": [
              "<Figure size 640x480 with 2 Axes>"
            ],
            "image/png": "[encoded data removed]"
          },
          "metadata": {}
        }
      ]
    },
    {
      "cell_type": "markdown",
      "source": [
        "## **2. ใช้ Gradient Boosting**\n",
        "\n",
        "คือ โมเดลที่รวมหลาย ๆ โมเดลเข้าด้วยกัน ด้วยการเพิ่ม Boosting ทำให้ลดความผิดพลาดในการทำนาย"
      ],
      "metadata": {
        "id": "7qBFpXKugMYZ"
      }
    },
    {
      "cell_type": "code",
      "source": [
        "# เตรียมไฟล์\n",
        "from sklearn.ensemble import GradientBoostingClassifier\n",
        "from sklearn.model_selection import train_test_split"
      ],
      "metadata": {
        "id": "5c70ErQGg3l7"
      },
      "execution_count": null,
      "outputs": []
    },
    {
      "cell_type": "code",
      "source": [
        "# กำหนด features\n",
        "\n",
        "X = df.drop(['PatientID','HasDiabetes'], axis=1)\n",
        "y = df.HasDiabetes\n",
        "\n",
        "# กำหนดอัลกอริทึม\n",
        "model = GradientBoostingClassifier()\n",
        "\n",
        "X_train, X_test, y_train, y_test = train_test_split(X, y, test_size=0.2, random_state=15)\n",
        "model.fit(X_train, y_train)\n",
        "\n",
        "y_predict = model.predict(X_test)"
      ],
      "metadata": {
        "id": "mfMh4ZuChq1j"
      },
      "execution_count": null,
      "outputs": []
    },
    {
      "cell_type": "code",
      "source": [
        "# คำนวณหาความแม่นยำ\n",
        "acc = accuracy_score(y_test, y_predict)\n",
        "print(f\"Gradient Boosting accuracy score : {acc:.2f}\\n\")\n",
        "\n",
        "print(confusion_matrix(y_test, y_predict))"
      ],
      "metadata": {
        "colab": {
          "base_uri": "https://localhost:8080/"
        },
        "id": "8HMTPrH-mTx3",
        "outputId": "6f352cd4-c85c-4dc7-ccbe-bedc7c82df6d"
      },
      "execution_count": null,
      "outputs": [
        {
          "output_type": "stream",
          "name": "stdout",
          "text": [
            "Gradient Boosting accuracy score : 0.75\n",
            "\n",
            "[[85 23]\n",
            " [16 30]]\n"
          ]
        }
      ]
    },
    {
      "cell_type": "code",
      "source": [
        "class_report = classification_report(y_test, y_predict, target_names=['0', '1'])\n",
        "print(class_report)"
      ],
      "metadata": {
        "colab": {
          "base_uri": "https://localhost:8080/"
        },
        "id": "OiBKS1qsmfNY",
        "outputId": "a3390c9b-dbc2-4cea-f257-aaf8df83f266"
      },
      "execution_count": null,
      "outputs": [
        {
          "output_type": "stream",
          "name": "stdout",
          "text": [
            "              precision    recall  f1-score   support\n",
            "\n",
            "           0       0.84      0.79      0.81       108\n",
            "           1       0.57      0.65      0.61        46\n",
            "\n",
            "    accuracy                           0.75       154\n",
            "   macro avg       0.70      0.72      0.71       154\n",
            "weighted avg       0.76      0.75      0.75       154\n",
            "\n"
          ]
        }
      ]
    },
    {
      "cell_type": "code",
      "source": [
        "# ทำ Heat Map\n",
        "import matplotlib.pyplot as plt\n",
        "import seaborn as sns\n",
        "\n",
        "cm = confusion_matrix(y_test, y_predict)\n",
        "ax = plt.subplot()\n",
        "sns.heatmap(cm, annot=True, ax=ax, cmap=\"coolwarm\")\n",
        "\n",
        "ax.set_title(\"Confusion Matrix\")\n",
        "ax.set_xlabel(\"Predicted labels\")\n",
        "ax.set_ylabel(\"Actual labels\")\n",
        "ax.xaxis.set_ticklabels(['0', '1'])\n",
        "ax.yaxis.set_ticklabels(['0', '1'])\n",
        "plt.show()"
      ],
      "metadata": {
        "colab": {
          "base_uri": "https://localhost:8080/",
          "height": 472
        },
        "id": "wo8ZS5pMmo0i",
        "outputId": "d518f7b9-e987-49c9-ef0f-4515141ff572"
      },
      "execution_count": null,
      "outputs": [
        {
          "output_type": "display_data",
          "data": {
            "text/plain": [
              "<Figure size 640x480 with 2 Axes>"
            ],
            "image/png": "[encoded data removed]"
          },
          "metadata": {}
        }
      ]
    },
    {
      "cell_type": "markdown",
      "source": [
        "## **วิเคราะห์เปรียบเทียบผลลัพธ์**\n",
        "\n",
        "> **Decision Tree accuracy score : 0.69**\n",
        "\n",
        "\n",
        "> **Gradient Boosting accuracy score : 0.75**\n",
        "\n",
        "โมเดล Decision Tree มีความแม่นยำน้อยกว่า โมเดล Gradient Boosting\n",
        "แต่โมเดล Decision tree มีความเรียบง่าย เข้าใจง่าย และรวดเร็วกว่า\n",
        "\n",
        "หากเปรียบเทียบด้วยการเทรนที่มีฐานข้อมูลขนาดใหญ่กว่านี้ จะเห็นความต่างชัดเจน เพราะโมเดล Gradient Boosting จะทำงานช้ากว่ามาก เนื่องจากผ่านการคิดคำนวณหลายขั้นตอนกว่า จึงมีความแม่นยำสูงกว่าค่ะ\n",
        "\n",
        "\n",
        "\n"
      ],
      "metadata": {
        "id": "6rU9pa4enFZz"
      }
    }
  ]
}