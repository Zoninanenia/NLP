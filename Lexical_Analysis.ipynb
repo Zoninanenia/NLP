{
  "nbformat": 4,
  "nbformat_minor": 0,
  "metadata": {
    "colab": {
      "provenance": []
    },
    "kernelspec": {
      "name": "python3",
      "display_name": "Python 3"
    },
    "language_info": {
      "name": "python"
    }
  },
  "cells": [
    {
      "cell_type": "code",
      "execution_count": null,
      "metadata": {
        "colab": {
          "base_uri": "https://localhost:8080/"
        },
        "collapsed": true,
        "id": "ok85vvOym1zo",
        "outputId": "7c10c741-7c78-4bbd-b28a-01bf2b575507"
      },
      "outputs": [
        {
          "output_type": "stream",
          "name": "stdout",
          "text": [
            "Requirement already satisfied: attacut in /usr/local/lib/python3.10/dist-packages (1.0.6)\n",
            "Requirement already satisfied: docopt>=0.6.2 in /usr/local/lib/python3.10/dist-packages (from attacut) (0.6.2)\n",
            "Requirement already satisfied: fire>=0.1.3 in /usr/local/lib/python3.10/dist-packages (from attacut) (0.6.0)\n",
            "Requirement already satisfied: nptyping>=0.2.0 in /usr/local/lib/python3.10/dist-packages (from attacut) (2.5.0)\n",
            "Requirement already satisfied: numpy>=1.17.0 in /usr/local/lib/python3.10/dist-packages (from attacut) (1.25.2)\n",
            "Requirement already satisfied: pyyaml>=5.1.2 in /usr/local/lib/python3.10/dist-packages (from attacut) (6.0.1)\n",
            "Requirement already satisfied: six>=1.12.0 in /usr/local/lib/python3.10/dist-packages (from attacut) (1.16.0)\n",
            "Requirement already satisfied: ssg>=0.0.4 in /usr/local/lib/python3.10/dist-packages (from attacut) (0.0.8)\n",
            "Requirement already satisfied: torch>=1.2.0 in /usr/local/lib/python3.10/dist-packages (from attacut) (2.3.0+cu121)\n",
            "Requirement already satisfied: termcolor in /usr/local/lib/python3.10/dist-packages (from fire>=0.1.3->attacut) (2.4.0)\n",
            "Requirement already satisfied: python-crfsuite>=0.9.6 in /usr/local/lib/python3.10/dist-packages (from ssg>=0.0.4->attacut) (0.9.10)\n",
            "Requirement already satisfied: tqdm>=4.32.2 in /usr/local/lib/python3.10/dist-packages (from ssg>=0.0.4->attacut) (4.66.4)\n",
            "Requirement already satisfied: filelock in /usr/local/lib/python3.10/dist-packages (from torch>=1.2.0->attacut) (3.15.4)\n",
            "Requirement already satisfied: typing-extensions>=4.8.0 in /usr/local/lib/python3.10/dist-packages (from torch>=1.2.0->attacut) (4.12.2)\n",
            "Requirement already satisfied: sympy in /usr/local/lib/python3.10/dist-packages (from torch>=1.2.0->attacut) (1.12.1)\n",
            "Requirement already satisfied: networkx in /usr/local/lib/python3.10/dist-packages (from torch>=1.2.0->attacut) (3.3)\n",
            "Requirement already satisfied: jinja2 in /usr/local/lib/python3.10/dist-packages (from torch>=1.2.0->attacut) (3.1.4)\n",
            "Requirement already satisfied: fsspec in /usr/local/lib/python3.10/dist-packages (from torch>=1.2.0->attacut) (2023.6.0)\n",
            "Requirement already satisfied: nvidia-cuda-nvrtc-cu12==12.1.105 in /usr/local/lib/python3.10/dist-packages (from torch>=1.2.0->attacut) (12.1.105)\n",
            "Requirement already satisfied: nvidia-cuda-runtime-cu12==12.1.105 in /usr/local/lib/python3.10/dist-packages (from torch>=1.2.0->attacut) (12.1.105)\n",
            "Requirement already satisfied: nvidia-cuda-cupti-cu12==12.1.105 in /usr/local/lib/python3.10/dist-packages (from torch>=1.2.0->attacut) (12.1.105)\n",
            "Requirement already satisfied: nvidia-cudnn-cu12==8.9.2.26 in /usr/local/lib/python3.10/dist-packages (from torch>=1.2.0->attacut) (8.9.2.26)\n",
            "Requirement already satisfied: nvidia-cublas-cu12==12.1.3.1 in /usr/local/lib/python3.10/dist-packages (from torch>=1.2.0->attacut) (12.1.3.1)\n",
            "Requirement already satisfied: nvidia-cufft-cu12==11.0.2.54 in /usr/local/lib/python3.10/dist-packages (from torch>=1.2.0->attacut) (11.0.2.54)\n",
            "Requirement already satisfied: nvidia-curand-cu12==10.3.2.106 in /usr/local/lib/python3.10/dist-packages (from torch>=1.2.0->attacut) (10.3.2.106)\n",
            "Requirement already satisfied: nvidia-cusolver-cu12==11.4.5.107 in /usr/local/lib/python3.10/dist-packages (from torch>=1.2.0->attacut) (11.4.5.107)\n",
            "Requirement already satisfied: nvidia-cusparse-cu12==12.1.0.106 in /usr/local/lib/python3.10/dist-packages (from torch>=1.2.0->attacut) (12.1.0.106)\n",
            "Requirement already satisfied: nvidia-nccl-cu12==2.20.5 in /usr/local/lib/python3.10/dist-packages (from torch>=1.2.0->attacut) (2.20.5)\n",
            "Requirement already satisfied: nvidia-nvtx-cu12==12.1.105 in /usr/local/lib/python3.10/dist-packages (from torch>=1.2.0->attacut) (12.1.105)\n",
            "Requirement already satisfied: triton==2.3.0 in /usr/local/lib/python3.10/dist-packages (from torch>=1.2.0->attacut) (2.3.0)\n",
            "Requirement already satisfied: nvidia-nvjitlink-cu12 in /usr/local/lib/python3.10/dist-packages (from nvidia-cusolver-cu12==11.4.5.107->torch>=1.2.0->attacut) (12.5.82)\n",
            "Requirement already satisfied: MarkupSafe>=2.0 in /usr/local/lib/python3.10/dist-packages (from jinja2->torch>=1.2.0->attacut) (2.1.5)\n",
            "Requirement already satisfied: mpmath<1.4.0,>=1.1.0 in /usr/local/lib/python3.10/dist-packages (from sympy->torch>=1.2.0->attacut) (1.3.0)\n",
            "Collecting deepcut\n",
            "  Downloading deepcut-0.7.0.0-py3-none-any.whl (2.0 MB)\n",
            "\u001b[2K     \u001b[90m━━━━━━━━━━━━━━━━━━━━━━━━━━━━━━━━━━━━━━━━\u001b[0m \u001b[32m2.0/2.0 MB\u001b[0m \u001b[31m20.6 MB/s\u001b[0m eta \u001b[36m0:00:00\u001b[0m\n",
            "\u001b[?25hRequirement already satisfied: tensorflow>=2.0.0 in /usr/local/lib/python3.10/dist-packages (from deepcut) (2.15.0)\n",
            "Requirement already satisfied: pandas in /usr/local/lib/python3.10/dist-packages (from deepcut) (2.0.3)\n",
            "Requirement already satisfied: scipy in /usr/local/lib/python3.10/dist-packages (from deepcut) (1.11.4)\n",
            "Requirement already satisfied: numpy in /usr/local/lib/python3.10/dist-packages (from deepcut) (1.25.2)\n",
            "Requirement already satisfied: scikit-learn in /usr/local/lib/python3.10/dist-packages (from deepcut) (1.2.2)\n",
            "Requirement already satisfied: h5py in /usr/local/lib/python3.10/dist-packages (from deepcut) (3.9.0)\n",
            "Requirement already satisfied: absl-py>=1.0.0 in /usr/local/lib/python3.10/dist-packages (from tensorflow>=2.0.0->deepcut) (1.4.0)\n",
            "Requirement already satisfied: astunparse>=1.6.0 in /usr/local/lib/python3.10/dist-packages (from tensorflow>=2.0.0->deepcut) (1.6.3)\n",
            "Requirement already satisfied: flatbuffers>=23.5.26 in /usr/local/lib/python3.10/dist-packages (from tensorflow>=2.0.0->deepcut) (24.3.25)\n",
            "Requirement already satisfied: gast!=0.5.0,!=0.5.1,!=0.5.2,>=0.2.1 in /usr/local/lib/python3.10/dist-packages (from tensorflow>=2.0.0->deepcut) (0.6.0)\n",
            "Requirement already satisfied: google-pasta>=0.1.1 in /usr/local/lib/python3.10/dist-packages (from tensorflow>=2.0.0->deepcut) (0.2.0)\n",
            "Requirement already satisfied: libclang>=13.0.0 in /usr/local/lib/python3.10/dist-packages (from tensorflow>=2.0.0->deepcut) (18.1.1)\n",
            "Requirement already satisfied: ml-dtypes~=0.2.0 in /usr/local/lib/python3.10/dist-packages (from tensorflow>=2.0.0->deepcut) (0.2.0)\n",
            "Requirement already satisfied: opt-einsum>=2.3.2 in /usr/local/lib/python3.10/dist-packages (from tensorflow>=2.0.0->deepcut) (3.3.0)\n",
            "Requirement already satisfied: packaging in /usr/local/lib/python3.10/dist-packages (from tensorflow>=2.0.0->deepcut) (24.1)\n",
            "Requirement already satisfied: protobuf!=4.21.0,!=4.21.1,!=4.21.2,!=4.21.3,!=4.21.4,!=4.21.5,<5.0.0dev,>=3.20.3 in /usr/local/lib/python3.10/dist-packages (from tensorflow>=2.0.0->deepcut) (3.20.3)\n",
            "Requirement already satisfied: setuptools in /usr/local/lib/python3.10/dist-packages (from tensorflow>=2.0.0->deepcut) (67.7.2)\n",
            "Requirement already satisfied: six>=1.12.0 in /usr/local/lib/python3.10/dist-packages (from tensorflow>=2.0.0->deepcut) (1.16.0)\n",
            "Requirement already satisfied: termcolor>=1.1.0 in /usr/local/lib/python3.10/dist-packages (from tensorflow>=2.0.0->deepcut) (2.4.0)\n",
            "Requirement already satisfied: typing-extensions>=3.6.6 in /usr/local/lib/python3.10/dist-packages (from tensorflow>=2.0.0->deepcut) (4.12.2)\n",
            "Requirement already satisfied: wrapt<1.15,>=1.11.0 in /usr/local/lib/python3.10/dist-packages (from tensorflow>=2.0.0->deepcut) (1.14.1)\n",
            "Requirement already satisfied: tensorflow-io-gcs-filesystem>=0.23.1 in /usr/local/lib/python3.10/dist-packages (from tensorflow>=2.0.0->deepcut) (0.37.0)\n",
            "Requirement already satisfied: grpcio<2.0,>=1.24.3 in /usr/local/lib/python3.10/dist-packages (from tensorflow>=2.0.0->deepcut) (1.64.1)\n",
            "Requirement already satisfied: tensorboard<2.16,>=2.15 in /usr/local/lib/python3.10/dist-packages (from tensorflow>=2.0.0->deepcut) (2.15.2)\n",
            "Requirement already satisfied: tensorflow-estimator<2.16,>=2.15.0 in /usr/local/lib/python3.10/dist-packages (from tensorflow>=2.0.0->deepcut) (2.15.0)\n",
            "Requirement already satisfied: keras<2.16,>=2.15.0 in /usr/local/lib/python3.10/dist-packages (from tensorflow>=2.0.0->deepcut) (2.15.0)\n",
            "Requirement already satisfied: python-dateutil>=2.8.2 in /usr/local/lib/python3.10/dist-packages (from pandas->deepcut) (2.8.2)\n",
            "Requirement already satisfied: pytz>=2020.1 in /usr/local/lib/python3.10/dist-packages (from pandas->deepcut) (2023.4)\n",
            "Requirement already satisfied: tzdata>=2022.1 in /usr/local/lib/python3.10/dist-packages (from pandas->deepcut) (2024.1)\n",
            "Requirement already satisfied: joblib>=1.1.1 in /usr/local/lib/python3.10/dist-packages (from scikit-learn->deepcut) (1.4.2)\n",
            "Requirement already satisfied: threadpoolctl>=2.0.0 in /usr/local/lib/python3.10/dist-packages (from scikit-learn->deepcut) (3.5.0)\n",
            "Requirement already satisfied: wheel<1.0,>=0.23.0 in /usr/local/lib/python3.10/dist-packages (from astunparse>=1.6.0->tensorflow>=2.0.0->deepcut) (0.43.0)\n",
            "Requirement already satisfied: google-auth<3,>=1.6.3 in /usr/local/lib/python3.10/dist-packages (from tensorboard<2.16,>=2.15->tensorflow>=2.0.0->deepcut) (2.27.0)\n",
            "Requirement already satisfied: google-auth-oauthlib<2,>=0.5 in /usr/local/lib/python3.10/dist-packages (from tensorboard<2.16,>=2.15->tensorflow>=2.0.0->deepcut) (1.2.0)\n",
            "Requirement already satisfied: markdown>=2.6.8 in /usr/local/lib/python3.10/dist-packages (from tensorboard<2.16,>=2.15->tensorflow>=2.0.0->deepcut) (3.6)\n",
            "Requirement already satisfied: requests<3,>=2.21.0 in /usr/local/lib/python3.10/dist-packages (from tensorboard<2.16,>=2.15->tensorflow>=2.0.0->deepcut) (2.31.0)\n",
            "Requirement already satisfied: tensorboard-data-server<0.8.0,>=0.7.0 in /usr/local/lib/python3.10/dist-packages (from tensorboard<2.16,>=2.15->tensorflow>=2.0.0->deepcut) (0.7.2)\n",
            "Requirement already satisfied: werkzeug>=1.0.1 in /usr/local/lib/python3.10/dist-packages (from tensorboard<2.16,>=2.15->tensorflow>=2.0.0->deepcut) (3.0.3)\n",
            "Requirement already satisfied: cachetools<6.0,>=2.0.0 in /usr/local/lib/python3.10/dist-packages (from google-auth<3,>=1.6.3->tensorboard<2.16,>=2.15->tensorflow>=2.0.0->deepcut) (5.3.3)\n",
            "Requirement already satisfied: pyasn1-modules>=0.2.1 in /usr/local/lib/python3.10/dist-packages (from google-auth<3,>=1.6.3->tensorboard<2.16,>=2.15->tensorflow>=2.0.0->deepcut) (0.4.0)\n",
            "Requirement already satisfied: rsa<5,>=3.1.4 in /usr/local/lib/python3.10/dist-packages (from google-auth<3,>=1.6.3->tensorboard<2.16,>=2.15->tensorflow>=2.0.0->deepcut) (4.9)\n",
            "Requirement already satisfied: requests-oauthlib>=0.7.0 in /usr/local/lib/python3.10/dist-packages (from google-auth-oauthlib<2,>=0.5->tensorboard<2.16,>=2.15->tensorflow>=2.0.0->deepcut) (1.3.1)\n",
            "Requirement already satisfied: charset-normalizer<4,>=2 in /usr/local/lib/python3.10/dist-packages (from requests<3,>=2.21.0->tensorboard<2.16,>=2.15->tensorflow>=2.0.0->deepcut) (3.3.2)\n",
            "Requirement already satisfied: idna<4,>=2.5 in /usr/local/lib/python3.10/dist-packages (from requests<3,>=2.21.0->tensorboard<2.16,>=2.15->tensorflow>=2.0.0->deepcut) (3.7)\n",
            "Requirement already satisfied: urllib3<3,>=1.21.1 in /usr/local/lib/python3.10/dist-packages (from requests<3,>=2.21.0->tensorboard<2.16,>=2.15->tensorflow>=2.0.0->deepcut) (2.0.7)\n",
            "Requirement already satisfied: certifi>=2017.4.17 in /usr/local/lib/python3.10/dist-packages (from requests<3,>=2.21.0->tensorboard<2.16,>=2.15->tensorflow>=2.0.0->deepcut) (2024.6.2)\n",
            "Requirement already satisfied: MarkupSafe>=2.1.1 in /usr/local/lib/python3.10/dist-packages (from werkzeug>=1.0.1->tensorboard<2.16,>=2.15->tensorflow>=2.0.0->deepcut) (2.1.5)\n",
            "Requirement already satisfied: pyasn1<0.7.0,>=0.4.6 in /usr/local/lib/python3.10/dist-packages (from pyasn1-modules>=0.2.1->google-auth<3,>=1.6.3->tensorboard<2.16,>=2.15->tensorflow>=2.0.0->deepcut) (0.6.0)\n",
            "Requirement already satisfied: oauthlib>=3.0.0 in /usr/local/lib/python3.10/dist-packages (from requests-oauthlib>=0.7.0->google-auth-oauthlib<2,>=0.5->tensorboard<2.16,>=2.15->tensorflow>=2.0.0->deepcut) (3.2.2)\n",
            "Installing collected packages: deepcut\n",
            "Successfully installed deepcut-0.7.0.0\n"
          ]
        }
      ],
      "source": [
        "!pip install -q pythainlp\n",
        "!pip install attacut\n",
        "!pip install deepcut"
      ]
    },
    {
      "cell_type": "code",
      "source": [
        "from pythainlp.tokenize import word_tokenize\n",
        "from pythainlp.tokenize import Tokenizer\n",
        "from pythainlp.corpus.common import thai_words"
      ],
      "metadata": {
        "id": "RQKT-Q-Wn8ud"
      },
      "execution_count": null,
      "outputs": []
    },
    {
      "cell_type": "code",
      "source": [
        "text = \"นายเสริมศักดิ์ พงษ์พานิช รัฐมนตรีว่าการกระทรวงการท่องเที่ยวและกีฬา กล่าวว่า กระทรวงการท่องเที่ยวและกีฬามีมาตรการกระตุ้นตลาดต่างประเทศ ด้วยการส่งเสริมภาพลักษณ์เชิงบวกเพื่อกระตุ้นให้เกิดการเดินทางของนักท่องเที่ยวต่างชาติมายังประเทศไทย จึงได้ร่วมมือกับ POP MART จัดกิจกรรม Welcome Ceremony of LABUBU เตรียมเฉลิมฉลองความสัมพันธ์ไทยจีนครบ 50 ปี ภายใต้โครงการ “ลาบูบู้เที่ยวไทย” ต้อนรับมาสคอตลาบูบู้จากกรุงปักกิ่ง สาธารณรัฐประชาชนจีนสู่ท่าอากาศยานสุวรรณภูมิ ประเทศไทย เพื่อจัดทำคลิปวิดีโอประชาสัมพันธ์เที่ยวไทยตามรอยลาบูบู้\""
      ],
      "metadata": {
        "id": "BKjPnCBaoH43"
      },
      "execution_count": null,
      "outputs": []
    },
    {
      "cell_type": "markdown",
      "source": [
        "1.1 ทดลองใช้อัลกอริทึมต่างๆ เช่น attacut, deepcut, longest, newmm, newmm-safe #ใช้ keep_whitespace=False เพื่อไม่แสดง output ว่าง"
      ],
      "metadata": {
        "id": "GaYUYbCcov-B"
      }
    },
    {
      "cell_type": "code",
      "source": [
        "#attacut\n",
        "print(word_tokenize(text, engine='attacut', keep_whitespace=False))"
      ],
      "metadata": {
        "colab": {
          "base_uri": "https://localhost:8080/"
        },
        "collapsed": true,
        "id": "e7KpYlHBoy2g",
        "outputId": "28e0b941-3cef-42b1-ce84-d99129a9d119"
      },
      "execution_count": null,
      "outputs": [
        {
          "output_type": "stream",
          "name": "stdout",
          "text": [
            "['นายเสริมศักดิ์ พงษ์พานิช', 'รัฐมนตรี', 'ว่าการ', 'กระทรวงการท่องเที่ยว', 'และกีฬา', 'กล่าว', 'ว่า', 'กระทรวงการท่องเที่ยว', 'และกีฬา', 'มี', 'มาตรการ', 'กระตุ้น', 'ตลาด', 'ต่าง', 'ประเทศ', 'ด้วย', 'การ', 'ส่งเสริม', 'ภาพลักษณ์', 'เชิง', 'บวก', 'เพื่อ', 'กระตุ้น', 'ให้', 'เกิด', 'การ', 'เดินทาง', 'ของ', 'นัก', 'ท่องเที่ยว', 'ต่าง', 'ชาติ', 'มา', 'ยัง', 'ประเทศไทย', 'จึง', 'ได้', 'ร่วมมือ', 'กับ', 'POP', 'MART', 'จัด', 'กิจกรรม', 'Welcome', 'Ceremony', 'of', 'LABUBU', 'เตรียม', 'เฉลิมฉลอง', 'ความ', 'สัมพันธ์', 'ไทยจีน', 'ครบ', '50', 'ปี', 'ภาย', 'ใต้', 'โครงการ', '“', 'ลาบูบู้', 'เที่ยว', 'ไทย', '”', 'ต้อนรับ', 'มาส', 'คอตลาบูบู้', 'จาก', 'กรุงปักกิ่ง', 'สาธารณรัฐประชาชน', 'จีน', 'สู่', 'ท่าอากาศยานสุวรรณภูมิ', 'ประเทศไทย', 'เพื่อ', 'จัดทำ', 'คลิป', 'วิดีโอ', 'ประชาสัมพันธ์', 'เที่ยว', 'ไทย', 'ตาม', 'รอย', 'ลาบูบู้']\n"
          ]
        }
      ]
    },
    {
      "cell_type": "code",
      "source": [
        "#deepcut\n",
        "print(word_tokenize(text, engine='deepcut', keep_whitespace=False))"
      ],
      "metadata": {
        "colab": {
          "base_uri": "https://localhost:8080/"
        },
        "id": "5_ESJMJKra2L",
        "outputId": "6b6d4c14-7834-48c7-b87d-199b8cea6394"
      },
      "execution_count": null,
      "outputs": [
        {
          "output_type": "stream",
          "name": "stdout",
          "text": [
            "17/17 [==============================] - 0s 11ms/step\n",
            "['นายเสริมศักดิ์ พงษ์พานิช', 'รัฐมนตรี', 'ว่าการ', 'กระทรวงการท่องเที่ยวและกีฬา', 'กล่าว', 'ว่า', 'กระทรวงการท่องเที่ยวและ', 'กีฬา', 'มี', 'มาตรการ', 'กระตุ้น', 'ตลาด', 'ต่าง', 'ประเทศ', 'ด้วย', 'การ', 'ส่งเสริม', 'ภาพลักษณ์', 'เชิง', 'บวก', 'เพื่อ', 'กระตุ้น', 'ให้', 'เกิด', 'การ', 'เดินทาง', 'ของ', 'นัก', 'ท่องเที่ยว', 'ต่าง', 'ชาติ', 'มา', 'ยัง', 'ประเทศไทย', 'จึง', 'ได้', 'ร่วมมือ', 'กับ', 'POP', 'MART', 'จัด', 'กิจกรรม', 'Welcome', 'Ceremony', 'of', 'LABUBU', 'เตรียม', 'เฉลิมฉลอง', 'ความ', 'สัมพันธ์', 'ไทย', 'จีน', 'ครบ', '50', 'ปี', 'ภาย', 'ใต้', 'โครงการ', '“', 'ลาบูบู้', 'เที่ยว', 'ไทย', '”', 'ต้อนรับ', 'มาสคอตลาบูบู้จาก', 'กรุงปักกิ่ง', 'สาธารณรัฐประชาชนจีน', 'สู่', 'ท่าอากาศยานสุวรรณภูมิ', 'ประเทศไทย', 'เพื่อ', 'จัดทำ', 'คลิป', 'วิดีโอ', 'ประชาสัมพันธ์', 'เที่ยว', 'ไทย', 'ตาม', 'รอย', 'ลาบูบู้']\n"
          ]
        }
      ]
    },
    {
      "cell_type": "code",
      "source": [
        "#longest\n",
        "print(word_tokenize(text, engine='longest', keep_whitespace=False))"
      ],
      "metadata": {
        "colab": {
          "base_uri": "https://localhost:8080/"
        },
        "id": "9__Ud-q0tQds",
        "outputId": "e2bba9fa-b2ee-49bc-9cf5-bd54837e740c"
      },
      "execution_count": null,
      "outputs": [
        {
          "output_type": "stream",
          "name": "stdout",
          "text": [
            "['นาย', 'เสริม', 'ศักดิ์', 'พงษ์', 'พา', 'นิช', 'รัฐมนตรี', 'ว่าการ', 'กระทรวง', 'การท่องเที่ยว', 'และ', 'กีฬา', 'กล่าวว่า', 'กระทรวง', 'การท่องเที่ยว', 'และ', 'กีฬา', 'มี', 'มาตรการ', 'กระตุ้น', 'ตลาด', 'ต่างประเทศ', 'ด้วย', 'การ', 'ส่งเสริม', 'ภาพลักษณ์', 'เชิง', 'บวก', 'เพื่อ', 'กระตุ้น', 'ให้', 'เกิด', 'การ', 'เดินทาง', 'ของ', 'นักท่องเที่ยว', 'ต่างชาติ', 'มายัง', 'ประเทศ', 'ไทย', 'จึง', 'ได้', 'ร่วมมือ', 'กับ', 'pop', 'mart', 'จัดกิจกรรม', 'welcome', 'ceremony', 'of', 'labubu', 'เตรียม', 'เฉลิมฉลอง', 'ความสัมพันธ์', 'ไทย', 'จีน', 'ครบ', '50', 'ปี', 'ภายใต้', 'โครง', 'การ', '“', 'ลาบู', 'บู้', 'เที่ยว', 'ไทย', '”', 'ต้อนรับ', 'มาสคอต', 'ลาบู', 'บู้', 'จาก', 'กรุง', 'ปักกิ่ง', 'สาธารณรัฐ', 'ประชาชน', 'จีน', 'สู่', 'ท่าอากาศยาน', 'สุวรรณภูมิ', 'ประเทศ', 'ไทย', 'เพื่อ', 'จัดทำ', 'คลิป', 'วิดีโอ', 'ประชาสัมพันธ์', 'เที่ยว', 'ไทย', 'ตามรอย', 'ลาบู', 'บู้']\n"
          ]
        }
      ]
    },
    {
      "cell_type": "code",
      "source": [
        "#newmm\n",
        "print(word_tokenize(text, engine='newmm', keep_whitespace=False))"
      ],
      "metadata": {
        "colab": {
          "base_uri": "https://localhost:8080/"
        },
        "id": "ujeXVnNrtlph",
        "outputId": "2b6cd119-0583-4d03-89b5-74cc31d12695"
      },
      "execution_count": null,
      "outputs": [
        {
          "output_type": "stream",
          "name": "stdout",
          "text": [
            "['นาย', 'เสริม', 'ศักดิ์', 'พงษ์', 'พา', 'นิช', 'รัฐมนตรี', 'ว่าการ', 'กระทรวง', 'การท่องเที่ยว', 'และ', 'กีฬา', 'กล่าวว่า', 'กระทรวง', 'การท่องเที่ยว', 'และ', 'กีฬา', 'มี', 'มาตรการ', 'กระตุ้น', 'ตลาด', 'ต่างประเทศ', 'ด้วย', 'การ', 'ส่งเสริม', 'ภาพลักษณ์', 'เชิง', 'บวก', 'เพื่อ', 'กระตุ้น', 'ให้', 'เกิด', 'การ', 'เดินทาง', 'ของ', 'นักท่องเที่ยว', 'ต่างชาติ', 'มายัง', 'ประเทศ', 'ไทย', 'จึง', 'ได้', 'ร่วมมือ', 'กับ', 'POP', 'MART', 'จัดกิจกรรม', 'Welcome', 'Ceremony', 'of', 'LABUBU', 'เตรียม', 'เฉลิมฉลอง', 'ความสัมพันธ์', 'ไทย', 'จีน', 'ครบ', '50', 'ปี', 'ภายใต้', 'โครงการ', '“', 'ลา', 'บู', 'บู้', 'เที่ยว', 'ไทย', '”', 'ต้อนรับ', 'มาสคอต', 'ลา', 'บู', 'บู้', 'จาก', 'กรุง', 'ปักกิ่ง', 'สาธารณรัฐ', 'ประชาชน', 'จีน', 'สู่', 'ท่าอากาศยาน', 'สุวรรณภูมิ', 'ประเทศ', 'ไทย', 'เพื่อ', 'จัดทำ', 'คลิป', 'วิดีโอ', 'ประชาสัมพันธ์', 'เที่ยว', 'ไทย', 'ตามรอย', 'ลา', 'บู', 'บู้']\n"
          ]
        }
      ]
    },
    {
      "cell_type": "code",
      "source": [
        "#newmm-safe\n",
        "print(word_tokenize(text, engine='newmm-safe', keep_whitespace=False))"
      ],
      "metadata": {
        "colab": {
          "base_uri": "https://localhost:8080/"
        },
        "id": "Qjq0cs2Qt5wF",
        "outputId": "26a55365-2e73-48d7-ec47-22fa614854dc"
      },
      "execution_count": null,
      "outputs": [
        {
          "output_type": "stream",
          "name": "stdout",
          "text": [
            "['นาย', 'เสริม', 'ศักดิ์', 'พงษ์', 'พา', 'นิช', 'รัฐมนตรี', 'ว', '่า', 'การ', 'กระทรวง', 'การท่องเที่ยว', 'และ', 'กีฬา', 'กล่าวว่า', 'กระทรวง', 'การท่องเที่ยว', 'และ', 'กีฬา', 'มี', 'มาตรการ', 'กระตุ้น', 'ตลาด', 'ต่างประเทศ', 'ด้วย', 'การ', 'ส่งเสริม', 'ภาพลักษณ์', 'เชิง', 'บวก', 'เพื่อ', 'กระตุ้น', 'ให้', 'เกิด', 'การ', 'เดินทาง', 'ของ', 'นักท่องเที่ยว', 'ต่างชาติ', 'มายัง', 'ประเทศ', 'ไทย', 'จึง', 'ไ', 'ด้', 'ร่วมมือ', 'กับ', 'POP', 'MART', 'จัดกิจกรรม', 'Wel', 'come', 'Ceremony', 'of', 'LABUBU', 'เตรียม', 'เฉลิม', 'ฉลอง', 'ความสัมพันธ์', 'ไทย', 'จีน', 'ครบ', '50', 'ปี', 'ภายใต้', 'โครงการ', '“', 'ลา', 'บู', 'บู้', 'เที่ยว', 'ไทย', '”', 'ต้อนรับ', 'มาสคอต', 'ลา', 'บู', 'บู้', 'จาก', 'กรุง', 'ปักกิ่ง', 'สาธารณรัฐ', 'ประชาชน', 'จีน', 'สู่', 'ท่าอากาศยาน', 'สุวรรณภูมิ', 'ประเทศ', 'ไทย', 'เพื่อ', 'จัดทำ', 'คลิป', 'วิดีโอ', 'ประชาสัมพันธ์', 'เที่ยว', 'ไทย', 'ตามรอย', 'ลา', 'บู', 'บู้']\n"
          ]
        }
      ]
    },
    {
      "cell_type": "markdown",
      "source": [
        "1.2 เพิ่มคำใน dictionary เช่น เสริมศักดิ์ พงษ์พานิช ลาบูบู้ มาสคอต สุวรรณภูมิ"
      ],
      "metadata": {
        "id": "6oY2XOGZuF_j"
      }
    },
    {
      "cell_type": "code",
      "source": [
        "words = ['เสริมศักดิ์','พงษ์พานิช', 'ลาบูบู้', 'มาสคอต', 'สุวรรณภูมิ', 'กล่าวว่า']\n",
        "\n",
        "#เลือกทดสอบเพิ่มคำกับอัลกอริทึม deepcut จากตอนแรกมี output ต่อคำว่า \"กล่าวว่า\" เป็น (..., 'กล่าว', 'ว่า',...) และต่อคำว่ามาสคอต เป็น (...'ต้อนรับ', 'มาสคอตลาบูบู้จาก',...)\n",
        "custom_tokenizer = Tokenizer(custom_dict=words, engine='deepcut')\n",
        "\n",
        "custom_tokenizer.word_tokenize(words)\n",
        "\n",
        "print(word_tokenize(text, engine=\"deepcut\", custom_dict=words, keep_whitespace=False))\n",
        "#output ที่เปลี่ยนไปคือตัวอัลกอริทึม ตัดคำศัพท์ที่ใส่ไว้ได้ถูกต้อง (.., 'กล่าวว่า',..), (..'ต้อนรับ', 'มาสคอต', 'ลาบูบู้', 'จาก',..)"
      ],
      "metadata": {
        "colab": {
          "base_uri": "https://localhost:8080/"
        },
        "id": "I4QrbJjruHlv",
        "outputId": "d0a1b8ca-2013-4f57-9c76-7e7dd3325883"
      },
      "execution_count": null,
      "outputs": [
        {
          "output_type": "stream",
          "name": "stdout",
          "text": [
            "17/17 [==============================] - 0s 21ms/step\n",
            "['นายเสริมศักดิ์', 'พงษ์พานิช', 'รัฐมนตรี', 'ว่าการ', 'กระทรวงการท่องเที่ยวและกีฬา', 'กล่าวว่า', 'กระทรวงการท่องเที่ยวและ', 'กีฬา', 'มี', 'มาตรการ', 'กระตุ้น', 'ตลาด', 'ต่าง', 'ประเทศ', 'ด้วย', 'การ', 'ส่งเสริม', 'ภาพลักษณ์', 'เชิง', 'บวก', 'เพื่อ', 'กระตุ้น', 'ให้', 'เกิด', 'การ', 'เดินทาง', 'ของ', 'นัก', 'ท่องเที่ยว', 'ต่าง', 'ชาติ', 'มา', 'ยัง', 'ประเทศไทย', 'จึง', 'ได้', 'ร่วมมือ', 'กับ', 'POP', 'MART', 'จัด', 'กิจกรรม', 'Welcome', 'Ceremony', 'of', 'LABUBU', 'เตรียม', 'เฉลิมฉลอง', 'ความ', 'สัมพันธ์', 'ไทย', 'จีน', 'ครบ', '50', 'ปี', 'ภาย', 'ใต้', 'โครงการ', '“', 'ลาบูบู้', 'เที่ยว', 'ไทย', '”', 'ต้อนรับ', 'มาสคอต', 'ลาบูบู้', 'จาก', 'กรุงปักกิ่ง', 'สาธารณรัฐประชาชนจีน', 'สู่', 'ท่าอากาศยานสุวรรณภูมิ', 'ประเทศไทย', 'เพื่อ', 'จัดทำ', 'คลิป', 'วิดีโอ', 'ประชาสัมพันธ์', 'เที่ยว', 'ไทย', 'ตาม', 'รอย', 'ลาบูบู้']\n"
          ]
        }
      ]
    },
    {
      "cell_type": "markdown",
      "source": [
        "1.3 กำหนดประโยคทดสอบใหม่ให้ยาวหลายๆ บรรทัด วัดความเร็วของแต่ละเทคนิค และวิเคราะห์เปรียบเทียบประสิทธิภาพของเทคนิคต่างๆ กับประโยคที่ทดสอบ"
      ],
      "metadata": {
        "id": "jfltF-tq5ARa"
      }
    },
    {
      "cell_type": "code",
      "source": [
        "#ประโยคทดสอบ จากเนื้อเพลง 'ไม่บอกเธอ - Bedroom Audio' มีทั้งหมด 1431 ตัวอักษร และมีคำทั้งหมดประมาณ 366 คำ\n",
        "newText = \"อยากขยับเข้าไปใกล้เธอ อยากรู้จักตั้งแต่ได้เจอ ใจฉันสั่นเมื่อได้ยินเสียงเธอ ตั้งแต่วันแรกเจอ ก็เผลอเอาไปคิดละเมอ พอรู้จักก็อยากจะทักทาย แต่พอไม่เจอแล้วใจก็วุ่นวาย เธอหายไปก็ห่วงเธอแทบตาย จะเป็นเช่นไร ตรงนั้นมีใครดูแลอยู่หรือไม่ก็ไม่รู้ เกือบลืมหายใจเมื่อเธอเข้ามาใกล้ใกล้ แค่เธอยิ้มมา ก็สั่นไปทั้งหัวใจ อยากจะบอกเธอให้ได้รับรู้ความในใจ แต่บอกตอนนี้ไม่รู้จะเร็วไปหรือไม่ ก็ยังไม่รู้ว่าเธอคิดเช่นไร ถ้าบอกคำนั้นแล้วเธอตอบมาว่าไม่ใช่ ถ้าเป็นแบบนี้เธอคงจะเดินหนีไป ดีพอแล้วที่ได้มีเธออยู่ใกล้ใกล้ ได้ยินเสียงได้คอยดูแลอยู่ไม่ไกล จะซ่อนความลับเอาไว้ในหัวใจ มากเพียงไหนฉันจะไม่ยอมพูดไป อยากจะบอกให้เธอได้รู้ใจ ที่จริงก็อยากจะบอกคำนั้นไป แต่กลัวเหลือเกินว่าจะต้องเสียใจ หากเธอรับไม่ได้ เธอคงไม่ยอมให้อภัยกับคำนั้น อึดอัดเหลือเกิน ต้องเก็บเอาไว้ข้างใน อึดอัดหัวใจ แต่ก็กลัวว่าถ้าพูดไป กลัวว่าจะต้องเสียใจ แต่บอกตอนนี้ไม่รู้จะเร็วไปหรือไม่ ก็ยังไม่รู้ว่าเธอคิดเช่นไร ถ้าบอกคำนั้นแล้วเธอตอบมาว่าไม่ใช่ ถ้าเป็นแบบนี้เธอคงจะเดินหนีไป ดีพอแล้วที่ได้มีเธออยู่ใกล้ใกล้ ได้ยินเสียงได้คอยดูแลอยู่ไม่ไกล จะซ่อนความลับเอาไว้ในหัวใจ มากเพียงไหนฉันจะไม่ยอมพูดไป มองกันให้ดีเธอก็คงรู้ ในความห่วงใยฉันมีอะไรซ่อนอยู่ ที่ยังไม่รู้คือเธอนั้นคิดอย่างไร มองกันให้ดีเธอก็คงจะเห็น ความจริงที่เป็นว่าฉันคิดอะไร หนึ่งคำนั้นที่ยังไม่ได้พูดไป จะเก็บเอาไว้ในวันที่จะเผยใจ รอวันนั้น วันที่ฉันแน่ใจ ว่าวันนี้เธอคิดว่าฉันนั่นใช่ และเธอพร้อมจะฟังความข้างใน จะบอกว่ารักให้เธอได้ยินใกล้ใกล้ บอกว่ารักเธอได้ยินหรือไม่ ถ้ายังไม่ชัดฟังอีกครั้งก็ได้ ได้ยินไหมว่ารักเธอทั้งหัวใจ\""
      ],
      "metadata": {
        "id": "HXNPQVlO7NxR"
      },
      "execution_count": null,
      "outputs": []
    },
    {
      "cell_type": "code",
      "source": [
        "#attacut\n",
        "print(f\"attacut : {word_tokenize(newText, engine='attacut', keep_whitespace=False)}\")\n",
        "\n",
        "#deepcut\n",
        "print(f\"deepcut : {word_tokenize(newText, engine='deepcut', keep_whitespace=False)}\")\n",
        "\n",
        "#longest\n",
        "print(f\"longest : {word_tokenize(newText, engine='longest', keep_whitespace=False)}\")\n",
        "\n",
        "#newmm\n",
        "print(f\"newmm : {word_tokenize(newText, engine='newmm', keep_whitespace=False)}\")\n",
        "\n",
        "#newmm-safe\n",
        "print(f\"newmm-safe : {word_tokenize(newText, engine='newmm-safe', keep_whitespace=False)}\")"
      ],
      "metadata": {
        "colab": {
          "base_uri": "https://localhost:8080/"
        },
        "id": "FNK2qoR065L0",
        "outputId": "b9bc1cbd-4365-442e-a61e-52cd0e9c0ddc"
      },
      "execution_count": null,
      "outputs": [
        {
          "output_type": "stream",
          "name": "stdout",
          "text": [
            "attacut : ['อยาก', 'ขยับ', 'เข้า', 'ไป', 'ใกล้', 'เธอ', 'อยาก', 'รู้จัก', 'ตั้งแต่', 'ได้', 'เจอ', 'ใจ', 'ฉัน', 'สั่น', 'เมื่อ', 'ได้ยิน', 'เสียง', 'เธอ', 'ตั้งแต่', 'วัน', 'แรก', 'เจอ', 'ก็', 'เผลอ', 'เอา', 'ไป', 'คิด', 'ละเมอ', 'พอ', 'รู้จัก', 'ก็', 'อยาก', 'จะ', 'ทักทาย', 'แต่', 'พอ', 'ไม่', 'เจอ', 'แล้วใจ', 'ก็', 'วุ่นวาย', 'เธอ', 'หาย', 'ไป', 'ก็', 'ห่วง', 'เธอ', 'แทบ', 'ตาย', 'จะ', 'เป็น', 'เช่น', 'ไร', 'ตรง', 'นั้น', 'มี', 'ใคร', 'ดูแล', 'อยู่', 'หรือ', 'ไม่', 'ก็', 'ไม่', 'รู้', 'เกือบ', 'ลืม', 'หายใจ', 'เมื่อ', 'เธอ', 'เข้า', 'มา', 'ใกล้', 'ใกล้', 'แค่', 'เธอ', 'ยิ้ม', 'มา', 'ก็', 'สั่น', 'ไป', 'ทั้ง', 'หัวใจ', 'อยาก', 'จะ', 'บอก', 'เธอ', 'ให้', 'ได้', 'รับ', 'รู้', 'ความ', 'ใน', 'ใจ', 'แต่', 'บอก', 'ตอน', 'นี้', 'ไม่', 'รู้', 'จะ', 'เร็ว', 'ไป', 'หรือ', 'ไม่', 'ก็', 'ยัง', 'ไม่', 'รู้', 'ว่า', 'เธอ', 'คิด', 'เช่นไร', 'ถ้า', 'บอก', 'คำ', 'นั้น', 'แล้ว', 'เธอ', 'ตอบ', 'มา', 'ว่า', 'ไม่', 'ใช่', 'ถ้า', 'เป็น', 'แบบ', 'นี้', 'เธอ', 'คง', 'จะ', 'เดิน', 'หนี', 'ไป', 'ดี', 'พอ', 'แล้ว', 'ที่', 'ได้', 'มี', 'เธอ', 'อยู่', 'ใกล้', 'ใกล้', 'ได้ยิน', 'เสียง', 'ได้', 'คอย', 'ดูแล', 'อยู่', 'ไม่', 'ไกล', 'จะ', 'ซ่อน', 'ความ', 'ลับ', 'เอา', 'ไว้', 'ใน', 'หัวใจ', 'มาก', 'เพียง', 'ไหน', 'ฉัน', 'จะ', 'ไม่', 'ยอม', 'พูด', 'ไป', 'อยาก', 'จะ', 'บอก', 'ให้', 'เธอ', 'ได้', 'รู้ใจ', 'ที่', 'จริง', 'ก็', 'อยาก', 'จะ', 'บอก', 'คำ', 'นั้น', 'ไป', 'แต่', 'กลัว', 'เหลือเกิน', 'ว่า', 'จะ', 'ต้อง', 'เสียใจ', 'หาก', 'เธอ', 'รับ', 'ไม่', 'ได้', 'เธอ', 'คง', 'ไม่', 'ยอม', 'ให้', 'อภัย', 'กับ', 'คำ', 'นั้น', 'อึดอัด', 'เหลือเกิน', 'ต้อง', 'เก็บ', 'เอา', 'ไว้', 'ข้าง', 'ใน', 'อึดอัด', 'หัวใจ', 'แต่', 'ก็', 'กลัว', 'ว่า', 'ถ้า', 'พูด', 'ไป', 'กลัว', 'ว่า', 'จะ', 'ต้อง', 'เสียใจ', 'แต่', 'บอก', 'ตอน', 'นี้', 'ไม่', 'รู้', 'จะ', 'เร็ว', 'ไป', 'หรือ', 'ไม่', 'ก็', 'ยัง', 'ไม่', 'รู้', 'ว่า', 'เธอ', 'คิด', 'เช่นไร', 'ถ้า', 'บอก', 'คำ', 'นั้น', 'แล้ว', 'เธอ', 'ตอบ', 'มา', 'ว่า', 'ไม่', 'ใช่', 'ถ้า', 'เป็น', 'แบบ', 'นี้', 'เธอ', 'คง', 'จะ', 'เดิน', 'หนี', 'ไป', 'ดี', 'พอ', 'แล้ว', 'ที่', 'ได้', 'มี', 'เธอ', 'อยู่', 'ใกล้', 'ใกล้', 'ได้ยิน', 'เสียง', 'ได้', 'คอย', 'ดูแล', 'อยู่', 'ไม่', 'ไกล', 'จะ', 'ซ่อน', 'ความ', 'ลับ', 'เอา', 'ไว้', 'ใน', 'หัวใจ', 'มาก', 'เพียง', 'ไหน', 'ฉัน', 'จะ', 'ไม่', 'ยอม', 'พูด', 'ไป', 'มอง', 'กัน', 'ให้', 'ดี', 'เธอ', 'ก็', 'คง', 'รู้', 'ใน', 'ความ', 'ห่วงใย', 'ฉัน', 'มี', 'อะไร', 'ซ่อน', 'อยู่', 'ที่', 'ยัง', 'ไม่', 'รู้', 'คือ', 'เธอ', 'นั้น', 'คิด', 'อย่าง', 'ไร', 'มอง', 'กัน', 'ให้', 'ดี', 'เธอ', 'ก็', 'คง', 'จะ', 'เห็น', 'ความ', 'จริง', 'ที่', 'เป็น', 'ว่า', 'ฉัน', 'คิด', 'อะไร', 'หนึ่ง', 'คำ', 'นั้น', 'ที่', 'ยัง', 'ไม่', 'ได้', 'พูด', 'ไป', 'จะ', 'เก็บ', 'เอา', 'ไว้', 'ใน', 'วัน', 'ที่', 'จะ', 'เผยใจ', 'รอ', 'วัน', 'นั้น', 'วัน', 'ที่', 'ฉัน', 'แน่ใจ', 'ว่า', 'วัน', 'นี้', 'เธอ', 'คิด', 'ว่า', 'ฉัน', 'นั่น', 'ใช่', 'และ', 'เธอ', 'พร้อม', 'จะ', 'ฟัง', 'ความ', 'ข้าง', 'ใน', 'จะ', 'บอก', 'ว่า', 'รัก', 'ให้', 'เธอ', 'ได้ยิน', 'ใกล้', 'ใกล้', 'บอก', 'ว่า', 'รัก', 'เธอ', 'ได้ยิน', 'หรือ', 'ไม่', 'ถ้า', 'ยัง', 'ไม่', 'ชัด', 'ฟัง', 'อีก', 'ครั้ง', 'ก็', 'ได้', 'ได้ยิน', 'ไหม', 'ว่า', 'รัก', 'เธอ', 'ทั้ง', 'หัวใจ']\n",
            "45/45 [==============================] - 1s 12ms/step\n",
            "deepcut : ['อยาก', 'ขยับ', 'เข้า', 'ไป', 'ใกล้', 'เธอ', 'อยาก', 'รู้จัก', 'ตั้งแต่', 'ได้', 'เจอ', 'ใจ', 'ฉัน', 'สั่น', 'เมื่อ', 'ได้ยิน', 'เสียง', 'เธอ', 'ตั้งแต่', 'วัน', 'แรก', 'เจอ', 'ก็', 'เผลอ', 'เอา', 'ไป', 'คิด', 'ละเมอ', 'พอ', 'รู้จัก', 'ก็', 'อยาก', 'จะ', 'ทักทาย', 'แต่', 'พอ', 'ไม่', 'เจอ', 'แล้วใจ', 'ก็', 'วุ่นวาย', 'เธอ', 'หาย', 'ไป', 'ก็', 'ห่วง', 'เธอ', 'แทบ', 'ตาย', 'จะ', 'เป็น', 'เช่น', 'ไร', 'ตรง', 'นั้น', 'มี', 'ใคร', 'ดูแล', 'อยู่', 'หรือ', 'ไม่', 'ก็', 'ไม่', 'รู้', 'เกือบ', 'ลืม', 'หายใจ', 'เมื่อ', 'เธอ', 'เข้า', 'มา', 'ใกล้', 'ใกล้', 'แค่', 'เธอ', 'ยิ้ม', 'มา', 'ก็', 'สั่น', 'ไป', 'ทั้ง', 'หัวใจ', 'อยาก', 'จะ', 'บอก', 'เธอ', 'ให้', 'ได้', 'รับ', 'รู้', 'ความ', 'ใน', 'ใจ', 'แต่', 'บอก', 'ตอน', 'นี้', 'ไม่', 'รู้', 'จะ', 'เร็ว', 'ไป', 'หรือ', 'ไม่', 'ก็', 'ยัง', 'ไม่', 'รู้', 'ว่า', 'เธอ', 'คิด', 'เช่น', 'ไร', 'ถ้า', 'บอก', 'คำ', 'นั้น', 'แล้ว', 'เธอ', 'ตอบ', 'มา', 'ว่า', 'ไม่', 'ใช่', 'ถ้า', 'เป็น', 'แบบ', 'นี้', 'เธอ', 'คง', 'จะ', 'เดิน', 'หนี', 'ไป', 'ดี', 'พอ', 'แล้ว', 'ที่', 'ได้', 'มี', 'เธอ', 'อยู่', 'ใกล้', 'ใกล้', 'ได้ยิน', 'เสียง', 'ได้', 'คอย', 'ดูแล', 'อยู่', 'ไม่', 'ไกล', 'จะ', 'ซ่อน', 'ความ', 'ลับ', 'เอา', 'ไว้', 'ใน', 'หัวใจ', 'มาก', 'เพียง', 'ไหน', 'ฉัน', 'จะ', 'ไม่', 'ยอม', 'พูด', 'ไป', 'อยาก', 'จะ', 'บอก', 'ให้', 'เธอ', 'ได้', 'รู้ใจ', 'ที่', 'จริง', 'ก็', 'อยาก', 'จะ', 'บอก', 'คำ', 'นั้น', 'ไป', 'แต่', 'กลัว', 'เหลือเกิน', 'ว่า', 'จะ', 'ต้อง', 'เสียใจ', 'หาก', 'เธอ', 'รับ', 'ไม่', 'ได้', 'เธอ', 'คง', 'ไม่', 'ยอม', 'ให้', 'อภัย', 'กับ', 'คำ', 'นั้น', 'อึดอัด', 'เหลือเกิน', 'ต้อง', 'เก็บ', 'เอา', 'ไว้', 'ข้าง', 'ใน', 'อึดอัด', 'หัวใจ', 'แต่', 'ก็', 'กลัว', 'ว่า', 'ถ้า', 'พูด', 'ไป', 'กลัว', 'ว่า', 'จะ', 'ต้อง', 'เสียใจ', 'แต่', 'บอก', 'ตอน', 'นี้', 'ไม่', 'รู้', 'จะ', 'เร็ว', 'ไป', 'หรือ', 'ไม่', 'ก็', 'ยัง', 'ไม่', 'รู้', 'ว่า', 'เธอ', 'คิด', 'เช่น', 'ไร', 'ถ้า', 'บอก', 'คำ', 'นั้น', 'แล้ว', 'เธอ', 'ตอบ', 'มา', 'ว่า', 'ไม่', 'ใช่', 'ถ้า', 'เป็น', 'แบบ', 'นี้', 'เธอ', 'คง', 'จะ', 'เดิน', 'หนี', 'ไป', 'ดี', 'พอ', 'แล้ว', 'ที่', 'ได้', 'มี', 'เธอ', 'อยู่', 'ใกล้', 'ใกล้', 'ได้ยิน', 'เสียง', 'ได้', 'คอย', 'ดูแล', 'อยู่', 'ไม่', 'ไกล', 'จะ', 'ซ่อน', 'ความ', 'ลับ', 'เอา', 'ไว้', 'ใน', 'หัวใจ', 'มาก', 'เพียง', 'ไหน', 'ฉัน', 'จะ', 'ไม่', 'ยอม', 'พูด', 'ไป', 'มอง', 'กัน', 'ให้', 'ดี', 'เธอ', 'ก็', 'คง', 'รู้', 'ใน', 'ความ', 'ห่วงใย', 'ฉัน', 'มี', 'อะไร', 'ซ่อน', 'อยู่', 'ที่', 'ยัง', 'ไม่', 'รู้', 'คือ', 'เธอ', 'นั้น', 'คิด', 'อย่าง', 'ไร', 'มอง', 'กัน', 'ให้', 'ดี', 'เธอ', 'ก็', 'คง', 'จะ', 'เห็น', 'ความ', 'จริง', 'ที่', 'เป็น', 'ว่า', 'ฉัน', 'คิด', 'อะไร', 'หนึ่ง', 'คำ', 'นั้น', 'ที่', 'ยัง', 'ไม่', 'ได้', 'พูด', 'ไป', 'จะ', 'เก็บ', 'เอา', 'ไว้', 'ใน', 'วัน', 'ที่', 'จะ', 'เผยใจ', 'รอ', 'วัน', 'นั้น', 'วัน', 'ที่', 'ฉัน', 'แน่ใจ', 'ว่า', 'วัน', 'นี้', 'เธอ', 'คิด', 'ว่า', 'ฉัน', 'นั่น', 'ใช่', 'และ', 'เธอ', 'พร้อม', 'จะ', 'ฟัง', 'ความ', 'ข้าง', 'ใน', 'จะ', 'บอก', 'ว่า', 'รัก', 'ให้', 'เธอ', 'ได้ยิน', 'ใกล้', 'ใกล้', 'บอก', 'ว่า', 'รัก', 'เธอ', 'ได้ยิน', 'หรือ', 'ไม่', 'ถ้า', 'ยัง', 'ไม่', 'ชัดฟัง', 'อีก', 'ครั้ง', 'ก็', 'ได้', 'ได้ยิน', 'ไหม', 'ว่า', 'รัก', 'เธอ', 'ทั้ง', 'หัวใจ']\n",
            "longest : ['อยาก', 'ขยับ', 'เข้าไป', 'ใกล้', 'เธอ', 'อยากรู้', 'จัก', 'ตั้งแต่', 'ได้', 'เจอ', 'ใจ', 'ฉัน', 'สั่น', 'เมื่อ', 'ได้ยิน', 'เสียง', 'เธอ', 'ตั้งแต่', 'วัน', 'แรก', 'เจอ', 'ก็', 'เผลอ', 'เอา', 'ไป', 'คิด', 'ละเมอ', 'พอ', 'รู้จัก', 'ก็', 'อยาก', 'จะ', 'ทักทาย', 'แต่', 'พอ', 'ไม่', 'เจอ', 'แล้ว', 'ใจ', 'ก็', 'วุ่นวาย', 'เธอ', 'หาย', 'ไป', 'ก็', 'ห่วง', 'เธอ', 'แทบตาย', 'จะ', 'เป็น', 'เช่นไร', 'ตรงนั้น', 'มี', 'ใคร', 'ดูแล', 'อยู่', 'หรือไม่', 'ก็', 'ไม่', 'รู้', 'เกือบ', 'ลืม', 'หายใจ', 'เมื่อ', 'เธอ', 'เข้ามา', 'ใกล้', 'ใกล้', 'แค่', 'เธอ', 'ยิ้ม', 'มา', 'ก็', 'สั่น', 'ไป', 'ทั้ง', 'หัวใจ', 'อยาก', 'จะ', 'บอก', 'เธอ', 'ให้ได้', 'รับรู้', 'ความในใจ', 'แต่', 'บอก', 'ตอนนี้', 'ไม่', 'รู้', 'จะ', 'เร็ว', 'ไป', 'หรือไม่', 'ก็', 'ยัง', 'ไม่', 'รู้', 'ว่า', 'เธอ', 'คิด', 'เช่นไร', 'ถ้า', 'บอก', 'คำ', 'นั้น', 'แล้ว', 'เธอ', 'ตอบ', 'มา', 'ว่า', 'ไม่', 'ใช่', 'ถ้า', 'เป็น', 'แบบนี้', 'เธอ', 'คงจะ', 'เดิน', 'หนี', 'ไป', 'ดี', 'พอแล้ว', 'ที่', 'ได้', 'มี', 'เธอ', 'อยู่', 'ใกล้', 'ใกล้', 'ได้ยิน', 'เสียง', 'ได้', 'คอย', 'ดูแล', 'อยู่', 'ไม่', 'ไกล', 'จะ', 'ซ่อน', 'ความลับ', 'เอาไว้', 'ใน', 'หัวใจ', 'มาก', 'เพียง', 'ไหน', 'ฉัน', 'จะ', 'ไม่', 'ยอม', 'พูด', 'ไป', 'อยาก', 'จะ', 'บอก', 'ให้', 'เธอ', 'ได้', 'รู้ใจ', 'ที่จริง', 'ก็', 'อยาก', 'จะ', 'บอก', 'คำ', 'นั้น', 'ไป', 'แต่', 'กลัว', 'เหลือเกิน', 'ว่า', 'จะ', 'ต้อง', 'เสียใจ', 'หาก', 'เธอ', 'รับ', 'ไม่', 'ได้', 'เธอ', 'คง', 'ไม่', 'ยอมให้', 'อภัย', 'กับ', 'คำ', 'นั้น', 'อึดอัด', 'เหลือเกิน', 'ต้อง', 'เก็บ', 'เอาไว้', 'ข้างใน', 'อึดอัด', 'หัวใจ', 'แต่', 'ก็', 'กลัว', 'ว่า', 'ถ้า', 'พูด', 'ไป', 'กลัว', 'ว่า', 'จะ', 'ต้อง', 'เสียใจ', 'แต่', 'บอก', 'ตอนนี้', 'ไม่', 'รู้', 'จะ', 'เร็ว', 'ไป', 'หรือไม่', 'ก็', 'ยัง', 'ไม่', 'รู้', 'ว่า', 'เธอ', 'คิด', 'เช่นไร', 'ถ้า', 'บอก', 'คำ', 'นั้น', 'แล้ว', 'เธอ', 'ตอบ', 'มา', 'ว่า', 'ไม่', 'ใช่', 'ถ้า', 'เป็น', 'แบบนี้', 'เธอ', 'คงจะ', 'เดิน', 'หนี', 'ไป', 'ดี', 'พอแล้ว', 'ที่', 'ได้', 'มี', 'เธอ', 'อยู่', 'ใกล้', 'ใกล้', 'ได้ยิน', 'เสียง', 'ได้', 'คอย', 'ดูแล', 'อยู่', 'ไม่', 'ไกล', 'จะ', 'ซ่อน', 'ความลับ', 'เอาไว้', 'ใน', 'หัวใจ', 'มาก', 'เพียง', 'ไหน', 'ฉัน', 'จะ', 'ไม่', 'ยอม', 'พูด', 'ไป', 'มอง', 'กัน', 'ให้', 'ดี', 'เธอ', 'ก็', 'คง', 'รู้', 'ใน', 'ความห่วงใย', 'ฉัน', 'มี', 'อะไร', 'ซ่อน', 'อยู่', 'ที่', 'ยัง', 'ไม่', 'รู้', 'คือ', 'เธอ', 'นั้น', 'คิด', 'อย่างไร', 'มอง', 'กัน', 'ให้', 'ดี', 'เธอ', 'ก็', 'คงจะ', 'เห็น', 'ความจริง', 'ที่', 'เป็น', 'ว่า', 'ฉัน', 'คิด', 'อะไร', 'หนึ่ง', 'คำ', 'นั้น', 'ที่', 'ยัง', 'ไม่', 'ได้', 'พูด', 'ไป', 'จะ', 'เก็บ', 'เอาไว้', 'ใน', 'วันที่', 'จะ', 'เผย', 'ใจ', 'รอ', 'วันนั้น', 'วันที่', 'ฉัน', 'แน่ใจ', 'ว่า', 'วันนี้', 'เธอ', 'คิด', 'ว่า', 'ฉัน', 'นั่น', 'ใช่', 'และ', 'เธอ', 'พร้อม', 'จะ', 'ฟัง', 'ความ', 'ข้างใน', 'จะ', 'บอก', 'ว่า', 'รัก', 'ให้', 'เธอ', 'ได้ยิน', 'ใกล้', 'ใกล้', 'บอก', 'ว่า', 'รัก', 'เธอ', 'ได้ยิน', 'หรือไม่', 'ถ้า', 'ยัง', 'ไม่', 'ชัด', 'ฟัง', 'อีกครั้ง', 'ก็ได้', 'ได้ยิน', 'ไหม', 'ว่า', 'รัก', 'เธอ', 'ทั้ง', 'หัวใจ']\n",
            "newmm : ['อยาก', 'ขยับ', 'เข้าไป', 'ใกล้', 'เธอ', 'อยาก', 'รู้จัก', 'ตั้งแต่', 'ได้', 'เจอ', 'ใจ', 'ฉัน', 'สั่น', 'เมื่อ', 'ได้ยิน', 'เสียง', 'เธอ', 'ตั้ง', 'แต่วัน', 'แรก', 'เจอ', 'ก็', 'เผลอ', 'เอา', 'ไป', 'คิด', 'ละเมอ', 'พอ', 'รู้จัก', 'ก็', 'อยาก', 'จะ', 'ทักทาย', 'แต่', 'พอ', 'ไม่', 'เจอ', 'แล้ว', 'ใจ', 'ก็', 'วุ่นวาย', 'เธอ', 'หาย', 'ไป', 'ก็', 'ห่วง', 'เธอ', 'แทบตาย', 'จะ', 'เป็น', 'เช่นไร', 'ตรงนั้น', 'มี', 'ใคร', 'ดูแล', 'อยู่', 'หรือไม่', 'ก็', 'ไม่', 'รู้', 'เกือบ', 'ลืม', 'หายใจ', 'เมื่อ', 'เธอ', 'เข้ามา', 'ใกล้', 'ใกล้', 'แค่', 'เธอ', 'ยิ้ม', 'มา', 'ก็', 'สั่น', 'ไป', 'ทั้ง', 'หัวใจ', 'อยาก', 'จะ', 'บอก', 'เธอ', 'ให้ได้', 'รับรู้', 'ความในใจ', 'แต่', 'บอก', 'ตอนนี้', 'ไม่', 'รู้', 'จะ', 'เร็ว', 'ไป', 'หรือไม่', 'ก็', 'ยัง', 'ไม่', 'รู้', 'ว่า', 'เธอ', 'คิด', 'เช่นไร', 'ถ้า', 'บอก', 'คำ', 'นั้น', 'แล้ว', 'เธอ', 'ตอบ', 'มา', 'ว่า', 'ไม่', 'ใช่', 'ถ้า', 'เป็น', 'แบบนี้', 'เธอ', 'คงจะ', 'เดิน', 'หนี', 'ไป', 'ดี', 'พอแล้ว', 'ที่', 'ได้', 'มี', 'เธอ', 'อยู่', 'ใกล้', 'ใกล้', 'ได้ยิน', 'เสียง', 'ได้', 'คอย', 'ดูแล', 'อยู่', 'ไม่', 'ไกล', 'จะ', 'ซ่อน', 'ความลับ', 'เอาไว้', 'ใน', 'หัวใจ', 'มาก', 'เพียง', 'ไหน', 'ฉัน', 'จะ', 'ไม่', 'ยอม', 'พูด', 'ไป', 'อยาก', 'จะ', 'บอก', 'ให้', 'เธอ', 'ได้', 'รู้ใจ', 'ที่จริง', 'ก็', 'อยาก', 'จะ', 'บอก', 'คำ', 'นั้น', 'ไป', 'แต่', 'กลัว', 'เหลือเกิน', 'ว่า', 'จะ', 'ต้อง', 'เสียใจ', 'หาก', 'เธอ', 'รับ', 'ไม่', 'ได้', 'เธอ', 'คง', 'ไม่', 'ยอม', 'ให้อภัย', 'กับ', 'คำ', 'นั้น', 'อึดอัด', 'เหลือเกิน', 'ต้อง', 'เก็บ', 'เอาไว้', 'ข้างใน', 'อึดอัด', 'หัวใจ', 'แต่', 'ก็', 'กลัว', 'ว่า', 'ถ้า', 'พูด', 'ไป', 'กลัว', 'ว่า', 'จะ', 'ต้อง', 'เสียใจ', 'แต่', 'บอก', 'ตอนนี้', 'ไม่', 'รู้', 'จะ', 'เร็ว', 'ไป', 'หรือไม่', 'ก็', 'ยัง', 'ไม่', 'รู้', 'ว่า', 'เธอ', 'คิด', 'เช่นไร', 'ถ้า', 'บอก', 'คำ', 'นั้น', 'แล้ว', 'เธอ', 'ตอบ', 'มา', 'ว่า', 'ไม่', 'ใช่', 'ถ้า', 'เป็น', 'แบบนี้', 'เธอ', 'คงจะ', 'เดิน', 'หนี', 'ไป', 'ดี', 'พอแล้ว', 'ที่', 'ได้', 'มี', 'เธอ', 'อยู่', 'ใกล้', 'ใกล้', 'ได้ยิน', 'เสียง', 'ได้', 'คอย', 'ดูแล', 'อยู่', 'ไม่', 'ไกล', 'จะ', 'ซ่อน', 'ความลับ', 'เอาไว้', 'ใน', 'หัวใจ', 'มาก', 'เพียง', 'ไหน', 'ฉัน', 'จะ', 'ไม่', 'ยอม', 'พูด', 'ไป', 'มอง', 'กัน', 'ให้', 'ดี', 'เธอ', 'ก็', 'คง', 'รู้', 'ใน', 'ความห่วงใย', 'ฉัน', 'มี', 'อะไร', 'ซ่อน', 'อยู่', 'ที่', 'ยัง', 'ไม่', 'รู้', 'คือ', 'เธอ', 'นั้น', 'คิด', 'อย่างไร', 'มอง', 'กัน', 'ให้', 'ดี', 'เธอ', 'ก็', 'คงจะ', 'เห็น', 'ความจริง', 'ที่', 'เป็น', 'ว่า', 'ฉัน', 'คิด', 'อะไร', 'หนึ่ง', 'คำ', 'นั้น', 'ที่', 'ยัง', 'ไม่', 'ได้', 'พูด', 'ไป', 'จะ', 'เก็บ', 'เอาไว้', 'ใน', 'วัน', 'ที่จะ', 'เผย', 'ใจ', 'รอ', 'วันนั้น', 'วันที่', 'ฉัน', 'แน่ใจ', 'ว่า', 'วันนี้', 'เธอ', 'คิด', 'ว่า', 'ฉัน', 'นั่น', 'ใช่', 'และ', 'เธอ', 'พร้อม', 'จะ', 'ฟัง', 'ความ', 'ข้างใน', 'จะ', 'บอ', 'กว่า', 'รัก', 'ให้', 'เธอ', 'ได้ยิน', 'ใกล้', 'ใกล้', 'บอ', 'กว่า', 'รัก', 'เธอ', 'ได้ยิน', 'หรือไม่', 'ถ้า', 'ยัง', 'ไม่', 'ชัด', 'ฟัง', 'อีกครั้ง', 'ก็ได้', 'ได้ยิน', 'ไหม', 'ว่า', 'รัก', 'เธอ', 'ทั้ง', 'หัวใจ']\n",
            "newmm-safe : ['อยาก', 'ขยับ', 'เข้าไป', 'ใกล้', 'เธอ', 'อยาก', 'รู้จัก', 'ตั้', 'ง', 'แต่', 'ได้', 'เจอ', 'ใจ', 'ฉัน', 'สั่น', 'เมื่อ', 'ได', '้', 'ยิน', 'เสียง', 'เธอ', 'ตั้ง', 'แต่วัน', 'แรก', 'เจอ', 'ก็', 'เผลอ', 'เ', 'อา', 'ไป', 'คิด', 'ละเมอ', 'พอ', 'รู้จัก', 'ก็', 'อยาก', 'จะ', 'ทักทาย', 'แต่', 'พอ', 'ไม่', 'เจอ', 'แล้ว', 'ใจ', 'ก็', 'วุ่นวาย', 'เธอ', 'หาย', 'ไป', 'ก', '็', 'ห่วง', 'เธอ', 'แทบตาย', 'จะ', 'เป็น', 'เช่นไร', 'ตรง', 'นั้น', 'มี', 'ใคร', 'ดูแล', 'อยู่', 'หรือไม่', 'ก็', 'ไม่', 'รู้', 'เกือบ', 'ลืม', 'หายใจ', 'เมื่อ', 'เธอ', 'เข้ามา', 'ใกล้', 'ใกล', '้', 'แค่', 'เธอ', 'ยิ้ม', 'มา', 'ก็', 'สั่น', 'ไป', 'ทั้ง', 'หัวใจ', 'อยาก', 'จะ', 'บอก', 'เธอ', 'ให้', 'ได้รับ', 'รู้ความ', 'ใน', 'ใจ', 'แต่', 'บอก', 'ตอนนี้', 'ไม่', 'รู้', 'จะ', 'เร็ว', 'ไ', 'ป', 'หรือไม่', 'ก็', 'ยัง', 'ไม่', 'รู้', 'ว่า', 'เธอ', 'คิด', 'เช่', 'น', 'ไร', 'ถ้า', 'บอก', 'คำ', 'นั้น', 'แล้ว', 'เธอ', 'ตอบ', 'มา', 'ว่า', 'ไ', 'ม่', 'ใช่', 'ถ้า', 'เป็น', 'แบบนี้', 'เธอ', 'คงจะ', 'เ', 'ดิน', 'หนี', 'ไป', 'ดี', 'พอแล้ว', 'ที่', 'ได้', 'มี', 'เธอ', 'อยู่', 'ใกล้', 'ใกล้', 'ได้ยิน', 'เสียง', 'ได้', 'คอย', 'ดูแล', 'อยู่', 'ไม่', 'ไกล', 'จะ', 'ซ่อน', 'ความลับ', 'เอาไว้', 'ใน', 'หัวใจ', 'มาก', 'เพียง', 'ไหน', 'ฉัน', 'จะ', 'ไม่', 'ยอม', 'พูด', 'ไป', 'อยาก', 'จะ', 'บอก', 'ให้', 'เธอ', 'ได้', 'รู้ใจ', 'ที่', 'จริง', 'ก็', 'อยาก', 'จะ', 'บอก', 'คำ', 'นั้น', 'ไป', 'แต่', 'กลัว', 'เหลือ', 'เ', 'กิน', 'ว่า', 'จะ', 'ต้อง', 'เสียใจ', 'หาก', 'เธอ', 'รับ', 'ไม่', 'ได', '้', 'เธอ', 'คง', 'ไม่', 'ยอม', 'ให้อภัย', 'กับ', 'คำ', 'นั้น', 'อึดอัด', 'เหลือเกิน', 'ต้อง', 'เก็บ', 'เอาไว้', 'ข้างใน', 'อึดอัด', 'หัวใจ', 'แต', '่', 'ก็', 'กลัว', 'ว่า', 'ถ้า', 'พูด', 'ไป', 'กลัว', 'ว่า', 'จะ', 'ต้อง', 'เส', 'ีย', 'ใจ', 'แต่', 'บอก', 'ตอนนี้', 'ไม่', 'รู้', 'จะ', 'เร็ว', 'ไ', 'ป', 'หรือไม่', 'ก็', 'ยัง', 'ไม่', 'รู้', 'ว่า', 'เธอ', 'คิด', 'เช่', 'น', 'ไร', 'ถ้า', 'บอก', 'คำ', 'นั้น', 'แล้ว', 'เธอ', 'ตอบ', 'มา', 'ว่า', 'ไ', 'ม่', 'ใช่', 'ถ้า', 'เป็น', 'แบบนี้', 'เธอ', 'คงจะ', 'เ', 'ดิน', 'หนี', 'ไป', 'ดี', 'พอแล้ว', 'ที่', 'ได้', 'มี', 'เธอ', 'อยู่', 'ใกล้', 'ใกล้', 'ได้ยิน', 'เส', 'ี', 'ยง', 'ได้', 'คอย', 'ดูแล', 'อยู่', 'ไม่', 'ไกล', 'จะ', 'ซ่อน', 'ค', 'วาม', 'ลับ', 'เอาไว้', 'ใน', 'หัวใจ', 'มาก', 'เพียง', 'ไหน', 'ฉั', 'น', 'จะ', 'ไม่', 'ยอม', 'พูด', 'ไป', 'มอง', 'กัน', 'ให้', 'ด', 'ี', 'เธอ', 'ก็', 'คง', 'รู้', 'ใน', 'ความห่วงใย', 'ฉัน', 'มี', 'อะไร', 'ซ่อน', 'อยู่', 'ที่', 'ยัง', 'ไม่', 'รู้', 'คือ', 'เ', 'ธอ', 'นั้น', 'คิด', 'อย่างไร', 'มอง', 'กัน', 'ให้', 'ดี', 'เธอ', 'ก็', 'คงจะ', 'เ', 'ห็น', 'ความจริง', 'ที่', 'เป็น', 'ว่า', 'ฉัน', 'คิด', 'อะไร', 'หนึ่ง', 'คำ', 'นั้น', 'ที่', 'ยัง', 'ไม่', 'ได้', 'พูด', 'ไป', 'จะ', 'เก็บ', 'เอา', 'ไว้', 'ใน', 'วัน', 'ที่จะ', 'เผย', 'ใจ', 'รอ', 'วันนั้น', 'วัน', 'ที่', 'ฉัน', 'แน่ใจ', 'ว่า', 'วันนี้', 'เธอ', 'คิ', 'ด', 'ว่า', 'ฉัน', 'นั่น', 'ใช่', 'และ', 'เธอ', 'พร้อม', 'จะ', 'ฟ', 'ัง', 'ความ', 'ข้างใน', 'จะ', 'บอ', 'กว่า', 'รัก', 'ให้', 'เธอ', 'ได้ยิน', 'ใกล้', 'ใกล้', 'บอ', 'กว่า', 'รัก', 'เธอ', 'ได้ยิน', 'หรือไม่', 'ถ้า', 'ยัง', 'ไม่', 'ชัด', 'ฟัง', 'อีกครั้ง', 'ก็ได้', 'ได้ยิน', 'ไหม', 'ว่า', 'รัก', 'เธอ', 'ทั้ง', 'หัวใจ']\n"
          ]
        }
      ]
    },
    {
      "cell_type": "markdown",
      "source": [
        "**วัดความเร็วจาก newText**"
      ],
      "metadata": {
        "id": "nStbFVhrGa0E"
      }
    },
    {
      "cell_type": "code",
      "source": [
        "#วัดความเร็ว attacut\n",
        "%%timeit\n",
        "tokens = word_tokenize(newText, engine=\"attacut\")"
      ],
      "metadata": {
        "colab": {
          "base_uri": "https://localhost:8080/"
        },
        "id": "moAernYW81ux",
        "outputId": "2aec48f2-e250-4f67-c774-aed0dca54280"
      },
      "execution_count": null,
      "outputs": [
        {
          "output_type": "stream",
          "name": "stdout",
          "text": [
            "51.4 ms ± 1.42 ms per loop (mean ± std. dev. of 7 runs, 10 loops each)\n"
          ]
        }
      ]
    },
    {
      "cell_type": "code",
      "source": [
        "#วัดความเร็ว deepcut\n",
        "%%timeit\n",
        "tokens = word_tokenize(newText, engine=\"deepcut\")"
      ],
      "metadata": {
        "colab": {
          "base_uri": "https://localhost:8080/"
        },
        "id": "5Jtp4yoM9AoF",
        "outputId": "8afae141-520a-4ed1-900f-88e87ddd1f31"
      },
      "execution_count": null,
      "outputs": [
        {
          "output_type": "stream",
          "name": "stdout",
          "text": [
            "45/45 [==============================] - 1s 13ms/step\n",
            "45/45 [==============================] - 1s 18ms/step\n",
            "45/45 [==============================] - 1s 21ms/step\n",
            "45/45 [==============================] - 1s 24ms/step\n",
            "45/45 [==============================] - 1s 15ms/step\n",
            "45/45 [==============================] - 1s 13ms/step\n",
            "45/45 [==============================] - 1s 13ms/step\n",
            "45/45 [==============================] - 1s 13ms/step\n",
            "961 ms ± 259 ms per loop (mean ± std. dev. of 7 runs, 1 loop each)\n"
          ]
        }
      ]
    },
    {
      "cell_type": "code",
      "source": [
        "#วัดความเร็ว longest\n",
        "%%timeit\n",
        "tokens = word_tokenize(newText, engine=\"longest\")"
      ],
      "metadata": {
        "colab": {
          "base_uri": "https://localhost:8080/"
        },
        "id": "ztQsJ7yZ9Ngn",
        "outputId": "438fb9ef-3929-48da-9093-6402030064bc"
      },
      "execution_count": null,
      "outputs": [
        {
          "output_type": "stream",
          "name": "stdout",
          "text": [
            "463 ms ± 11.9 ms per loop (mean ± std. dev. of 7 runs, 1 loop each)\n"
          ]
        }
      ]
    },
    {
      "cell_type": "code",
      "source": [
        "#วัดความเร็ว newmm\n",
        "%%timeit\n",
        "tokens = word_tokenize(newText, engine=\"newmm\")"
      ],
      "metadata": {
        "colab": {
          "base_uri": "https://localhost:8080/"
        },
        "id": "qOEIJUU39NrJ",
        "outputId": "dbeaa9e9-7534-4cab-a5e6-24ef7d1dd12c"
      },
      "execution_count": null,
      "outputs": [
        {
          "output_type": "stream",
          "name": "stdout",
          "text": [
            "3.74 ms ± 169 µs per loop (mean ± std. dev. of 7 runs, 100 loops each)\n"
          ]
        }
      ]
    },
    {
      "cell_type": "code",
      "source": [
        "#วัดความเร็ว newmm-safe\n",
        "%%timeit\n",
        "tokens = word_tokenize(newText, engine=\"newmm-safe\")"
      ],
      "metadata": {
        "colab": {
          "base_uri": "https://localhost:8080/"
        },
        "id": "hcBS-ZB79Nwq",
        "outputId": "355660df-1d7f-4993-9dec-d4b04bd35fcd"
      },
      "execution_count": null,
      "outputs": [
        {
          "output_type": "stream",
          "name": "stdout",
          "text": [
            "5.86 ms ± 1.3 ms per loop (mean ± std. dev. of 7 runs, 100 loops each)\n"
          ]
        }
      ]
    },
    {
      "cell_type": "markdown",
      "source": [
        "**จากการวัดความเร็วของแต่ละอัลกอริทึมจะพบว่า**\n",
        "\n",
        "- newmm < newmm-safe < attacut < longest < deepcut\n",
        "\n",
        "**วิเคราะห์จากความถูกต้องของคำพบว่า**\n",
        "\n",
        "- newmm-safe มีความถูกต้องน้อยที่สุด\n",
        "\n",
        "- newmm มีการตัดคำที่ไม่สื่อความหมายออกมาเยอะกว่า longest อย่างเช่น (..'ตั้ง', 'แต่วัน',..), (..'บอ', 'กว่า'..)\n",
        "\n",
        "- longest มีการตัดคำที่ไม่สื่อความหมายออกมาบ้าง อย่างเช่น (..'อยากรู้', 'จัก',..)\n",
        "\n",
        "\n",
        "- attacut และ deepcut มีการตัดคำที่ละเอียดและคำที่ถูกตัดยังมีความหมายที่สุด\n",
        "\n",
        "**สรุปจากข้อมูลดังกล่าว attacut มีประสิทธิภาพสูงสุด คือไม่ช้ามาก และมีความถูกต้อง**\n"
      ],
      "metadata": {
        "id": "435zAMhc-m_F"
      }
    }
  ]
}