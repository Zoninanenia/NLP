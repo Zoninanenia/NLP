{
  "nbformat": 4,
  "nbformat_minor": 0,
  "metadata": {
    "colab": {
      "provenance": []
    },
    "kernelspec": {
      "name": "python3",
      "display_name": "Python 3"
    },
    "language_info": {
      "name": "python"
    }
  },
  "cells": [
    {
      "cell_type": "markdown",
      "source": [
        "## ให้นิสิตเขียนโปรแกรมเพื่อทำ sentiment analysis dataset Fastfood_Opinion.csv ด้วยเทคนิค Naïve Bayes และ Logistic Regression"
      ],
      "metadata": {
        "id": "Rzec0mIihJfP"
      }
    },
    {
      "cell_type": "code",
      "execution_count": null,
      "metadata": {
        "colab": {
          "base_uri": "https://localhost:8080/"
        },
        "id": "Ovr1dJ1rff00",
        "outputId": "4004ed40-3093-4537-c480-ae30798f66f4"
      },
      "outputs": [
        {
          "output_type": "stream",
          "name": "stdout",
          "text": [
            "Collecting pythainlp\n",
            "  Downloading pythainlp-5.0.4-py3-none-any.whl (17.9 MB)\n",
            "\u001b[2K     \u001b[90m━━━━━━━━━━━━━━━━━━━━━━━━━━━━━━━━━━━━━━━━\u001b[0m \u001b[32m17.9/17.9 MB\u001b[0m \u001b[31m26.4 MB/s\u001b[0m eta \u001b[36m0:00:00\u001b[0m\n",
            "\u001b[?25hRequirement already satisfied: requests>=2.22.0 in /usr/local/lib/python3.10/dist-packages (from pythainlp) (2.31.0)\n",
            "Requirement already satisfied: charset-normalizer<4,>=2 in /usr/local/lib/python3.10/dist-packages (from requests>=2.22.0->pythainlp) (3.3.2)\n",
            "Requirement already satisfied: idna<4,>=2.5 in /usr/local/lib/python3.10/dist-packages (from requests>=2.22.0->pythainlp) (3.7)\n",
            "Requirement already satisfied: urllib3<3,>=1.21.1 in /usr/local/lib/python3.10/dist-packages (from requests>=2.22.0->pythainlp) (2.0.7)\n",
            "Requirement already satisfied: certifi>=2017.4.17 in /usr/local/lib/python3.10/dist-packages (from requests>=2.22.0->pythainlp) (2024.7.4)\n",
            "Installing collected packages: pythainlp\n",
            "Successfully installed pythainlp-5.0.4\n"
          ]
        }
      ],
      "source": [
        "!pip install pythainlp"
      ]
    },
    {
      "cell_type": "code",
      "source": [
        "!wget -O fastfood.data.csv 'https://docs.google.com/uc?export=download&id=1K0VgdwYagNidu5k_y5pnSrGrGIOBPsyS'"
      ],
      "metadata": {
        "colab": {
          "base_uri": "https://localhost:8080/"
        },
        "id": "HAjhtL5pf0t3",
        "outputId": "7b5a555c-8c49-4133-b475-cef530cfe7fc"
      },
      "execution_count": null,
      "outputs": [
        {
          "output_type": "stream",
          "name": "stdout",
          "text": [
            "--2024-07-23 16:49:24--  https://docs.google.com/uc?export=download&id=1K0VgdwYagNidu5k_y5pnSrGrGIOBPsyS\n",
            "Resolving docs.google.com (docs.google.com)... 64.233.180.100, 64.233.180.139, 64.233.180.113, ...\n",
            "Connecting to docs.google.com (docs.google.com)|64.233.180.100|:443... connected.\n",
            "HTTP request sent, awaiting response... 303 See Other\n",
            "Location: https://drive.usercontent.google.com/download?id=1K0VgdwYagNidu5k_y5pnSrGrGIOBPsyS&export=download [following]\n",
            "--2024-07-23 16:49:24--  https://drive.usercontent.google.com/download?id=1K0VgdwYagNidu5k_y5pnSrGrGIOBPsyS&export=download\n",
            "Resolving drive.usercontent.google.com (drive.usercontent.google.com)... 172.253.62.132, 2607:f8b0:4004:c19::84\n",
            "Connecting to drive.usercontent.google.com (drive.usercontent.google.com)|172.253.62.132|:443... connected.\n",
            "HTTP request sent, awaiting response... 200 OK\n",
            "Length: 348315 (340K) [application/octet-stream]\n",
            "Saving to: ‘fastfood.data.csv’\n",
            "\n",
            "fastfood.data.csv   100%[===================>] 340.15K  --.-KB/s    in 0.02s   \n",
            "\n",
            "2024-07-23 16:49:27 (13.7 MB/s) - ‘fastfood.data.csv’ saved [348315/348315]\n",
            "\n"
          ]
        }
      ]
    },
    {
      "cell_type": "code",
      "source": [
        "import pandas as pd\n",
        "import numpy as np\n",
        "from pythainlp.tokenize import word_tokenize\n",
        "from sklearn.feature_extraction.text import CountVectorizer\n",
        "from sklearn.model_selection import train_test_split\n",
        "from sklearn.linear_model import LogisticRegression\n",
        "from sklearn.metrics import accuracy_score\n",
        "from sklearn.metrics import classification_report, confusion_matrix\n",
        "from sklearn.naive_bayes import MultinomialNB"
      ],
      "metadata": {
        "id": "dUFtbokEf340"
      },
      "execution_count": null,
      "outputs": []
    },
    {
      "cell_type": "code",
      "source": [
        "df = pd.read_csv('fastfood.data.csv')\n",
        "df"
      ],
      "metadata": {
        "colab": {
          "base_uri": "https://localhost:8080/",
          "height": 424
        },
        "id": "URNAqz9-f_cR",
        "outputId": "7b79e102-4384-4959-f5a1-db8549dd410f"
      },
      "execution_count": null,
      "outputs": [
        {
          "output_type": "execute_result",
          "data": {
            "text/plain": [
              "     class                                            message\n",
              "0        0  11.30 น. ไปที่สาขาในปั๊มคาลเท็กซ์ ประชานุกูล ซ...\n",
              "1        0  BK ทุกสาขาบริการดี โดยเฉพาะอย่างยิ่งเอมโพเรียม...\n",
              "2        0  Burger King สาขา The Bright พระราม 2 บริการห่ว...\n",
              "3        0  Burger King สาขาปั้ม ป.ต.ท.บ้านพร อ.ถลาง เมื่อ...\n",
              "4        0  chicken strip ชิ้นเล็กมาก เทียบกับป้ายโฆษณาบนโต๊ะ\n",
              "..     ...                                                ...\n",
              "637      1                          ช่วงโปรฯ คุณภาพเกินราคาคะ\n",
              "638      1                           อร่อยมาก ราคาโอเครเลยค่ะ\n",
              "639      1                                    อาหารอร่อยมากคะ\n",
              "640      1                      คุณภาพและการบริการระดับ 5 ดาว\n",
              "641      1                                 อาหารอร่อยมากๆ ค่ะ\n",
              "\n",
              "[642 rows x 2 columns]"
            ],
            "text/html": [
              "\n",
              "  <div id=\"df-e88bd72f-2938-4891-ab28-84f1c52f7334\" class=\"colab-df-container\">\n",
              "    <div>\n",
              "<style scoped>\n",
              "    .dataframe tbody tr th:only-of-type {\n",
              "        vertical-align: middle;\n",
              "    }\n",
              "\n",
              "    .dataframe tbody tr th {\n",
              "        vertical-align: top;\n",
              "    }\n",
              "\n",
              "    .dataframe thead th {\n",
              "        text-align: right;\n",
              "    }\n",
              "</style>\n",
              "<table border=\"1\" class=\"dataframe\">\n",
              "  <thead>\n",
              "    <tr style=\"text-align: right;\">\n",
              "      <th></th>\n",
              "      <th>class</th>\n",
              "      <th>message</th>\n",
              "    </tr>\n",
              "  </thead>\n",
              "  <tbody>\n",
              "    <tr>\n",
              "      <th>0</th>\n",
              "      <td>0</td>\n",
              "      <td>11.30 น. ไปที่สาขาในปั๊มคาลเท็กซ์ ประชานุกูล ซ...</td>\n",
              "    </tr>\n",
              "    <tr>\n",
              "      <th>1</th>\n",
              "      <td>0</td>\n",
              "      <td>BK ทุกสาขาบริการดี โดยเฉพาะอย่างยิ่งเอมโพเรียม...</td>\n",
              "    </tr>\n",
              "    <tr>\n",
              "      <th>2</th>\n",
              "      <td>0</td>\n",
              "      <td>Burger King สาขา The Bright พระราม 2 บริการห่ว...</td>\n",
              "    </tr>\n",
              "    <tr>\n",
              "      <th>3</th>\n",
              "      <td>0</td>\n",
              "      <td>Burger King สาขาปั้ม ป.ต.ท.บ้านพร อ.ถลาง เมื่อ...</td>\n",
              "    </tr>\n",
              "    <tr>\n",
              "      <th>4</th>\n",
              "      <td>0</td>\n",
              "      <td>chicken strip ชิ้นเล็กมาก เทียบกับป้ายโฆษณาบนโต๊ะ</td>\n",
              "    </tr>\n",
              "    <tr>\n",
              "      <th>...</th>\n",
              "      <td>...</td>\n",
              "      <td>...</td>\n",
              "    </tr>\n",
              "    <tr>\n",
              "      <th>637</th>\n",
              "      <td>1</td>\n",
              "      <td>ช่วงโปรฯ คุณภาพเกินราคาคะ</td>\n",
              "    </tr>\n",
              "    <tr>\n",
              "      <th>638</th>\n",
              "      <td>1</td>\n",
              "      <td>อร่อยมาก ราคาโอเครเลยค่ะ</td>\n",
              "    </tr>\n",
              "    <tr>\n",
              "      <th>639</th>\n",
              "      <td>1</td>\n",
              "      <td>อาหารอร่อยมากคะ</td>\n",
              "    </tr>\n",
              "    <tr>\n",
              "      <th>640</th>\n",
              "      <td>1</td>\n",
              "      <td>คุณภาพและการบริการระดับ 5 ดาว</td>\n",
              "    </tr>\n",
              "    <tr>\n",
              "      <th>641</th>\n",
              "      <td>1</td>\n",
              "      <td>อาหารอร่อยมากๆ ค่ะ</td>\n",
              "    </tr>\n",
              "  </tbody>\n",
              "</table>\n",
              "<p>642 rows × 2 columns</p>\n",
              "</div>\n",
              "    <div class=\"colab-df-buttons\">\n",
              "\n",
              "  <div class=\"colab-df-container\">\n",
              "    <button class=\"colab-df-convert\" onclick=\"convertToInteractive('df-e88bd72f-2938-4891-ab28-84f1c52f7334')\"\n",
              "            title=\"Convert this dataframe to an interactive table.\"\n",
              "            style=\"display:none;\">\n",
              "\n",
              "  <svg xmlns=\"http://www.w3.org/2000/svg\" height=\"24px\" viewBox=\"0 -960 960 960\">\n",
              "    <path d=\"M120-120v-720h720v720H120Zm60-500h600v-160H180v160Zm220 220h160v-160H400v160Zm0 220h160v-160H400v160ZM180-400h160v-160H180v160Zm440 0h160v-160H620v160ZM180-180h160v-160H180v160Zm440 0h160v-160H620v160Z\"/>\n",
              "  </svg>\n",
              "    </button>\n",
              "\n",
              "  <style>\n",
              "    .colab-df-container {\n",
              "      display:flex;\n",
              "      gap: 12px;\n",
              "    }\n",
              "\n",
              "    .colab-df-convert {\n",
              "      background-color: #E8F0FE;\n",
              "      border: none;\n",
              "      border-radius: 50%;\n",
              "      cursor: pointer;\n",
              "      display: none;\n",
              "      fill: #1967D2;\n",
              "      height: 32px;\n",
              "      padding: 0 0 0 0;\n",
              "      width: 32px;\n",
              "    }\n",
              "\n",
              "    .colab-df-convert:hover {\n",
              "      background-color: #E2EBFA;\n",
              "      box-shadow: 0px 1px 2px rgba(60, 64, 67, 0.3), 0px 1px 3px 1px rgba(60, 64, 67, 0.15);\n",
              "      fill: #174EA6;\n",
              "    }\n",
              "\n",
              "    .colab-df-buttons div {\n",
              "      margin-bottom: 4px;\n",
              "    }\n",
              "\n",
              "    [theme=dark] .colab-df-convert {\n",
              "      background-color: #3B4455;\n",
              "      fill: #D2E3FC;\n",
              "    }\n",
              "\n",
              "    [theme=dark] .colab-df-convert:hover {\n",
              "      background-color: #434B5C;\n",
              "      box-shadow: 0px 1px 3px 1px rgba(0, 0, 0, 0.15);\n",
              "      filter: drop-shadow(0px 1px 2px rgba(0, 0, 0, 0.3));\n",
              "      fill: #FFFFFF;\n",
              "    }\n",
              "  </style>\n",
              "\n",
              "    <script>\n",
              "      const buttonEl =\n",
              "        document.querySelector('#df-e88bd72f-2938-4891-ab28-84f1c52f7334 button.colab-df-convert');\n",
              "      buttonEl.style.display =\n",
              "        google.colab.kernel.accessAllowed ? 'block' : 'none';\n",
              "\n",
              "      async function convertToInteractive(key) {\n",
              "        const element = document.querySelector('#df-e88bd72f-2938-4891-ab28-84f1c52f7334');\n",
              "        const dataTable =\n",
              "          await google.colab.kernel.invokeFunction('convertToInteractive',\n",
              "                                                    [key], {});\n",
              "        if (!dataTable) return;\n",
              "\n",
              "        const docLinkHtml = 'Like what you see? Visit the ' +\n",
              "          '<a target=\"_blank\" href=https://colab.research.google.com/notebooks/data_table.ipynb>data table notebook</a>'\n",
              "          + ' to learn more about interactive tables.';\n",
              "        element.innerHTML = '';\n",
              "        dataTable['output_type'] = 'display_data';\n",
              "        await google.colab.output.renderOutput(dataTable, element);\n",
              "        const docLink = document.createElement('div');\n",
              "        docLink.innerHTML = docLinkHtml;\n",
              "        element.appendChild(docLink);\n",
              "      }\n",
              "    </script>\n",
              "  </div>\n",
              "\n",
              "\n",
              "<div id=\"df-ba16ce8b-ad6c-4333-875a-2d87c0e87b59\">\n",
              "  <button class=\"colab-df-quickchart\" onclick=\"quickchart('df-ba16ce8b-ad6c-4333-875a-2d87c0e87b59')\"\n",
              "            title=\"Suggest charts\"\n",
              "            style=\"display:none;\">\n",
              "\n",
              "<svg xmlns=\"http://www.w3.org/2000/svg\" height=\"24px\"viewBox=\"0 0 24 24\"\n",
              "     width=\"24px\">\n",
              "    <g>\n",
              "        <path d=\"M19 3H5c-1.1 0-2 .9-2 2v14c0 1.1.9 2 2 2h14c1.1 0 2-.9 2-2V5c0-1.1-.9-2-2-2zM9 17H7v-7h2v7zm4 0h-2V7h2v10zm4 0h-2v-4h2v4z\"/>\n",
              "    </g>\n",
              "</svg>\n",
              "  </button>\n",
              "\n",
              "<style>\n",
              "  .colab-df-quickchart {\n",
              "      --bg-color: #E8F0FE;\n",
              "      --fill-color: #1967D2;\n",
              "      --hover-bg-color: #E2EBFA;\n",
              "      --hover-fill-color: #174EA6;\n",
              "      --disabled-fill-color: #AAA;\n",
              "      --disabled-bg-color: #DDD;\n",
              "  }\n",
              "\n",
              "  [theme=dark] .colab-df-quickchart {\n",
              "      --bg-color: #3B4455;\n",
              "      --fill-color: #D2E3FC;\n",
              "      --hover-bg-color: #434B5C;\n",
              "      --hover-fill-color: #FFFFFF;\n",
              "      --disabled-bg-color: #3B4455;\n",
              "      --disabled-fill-color: #666;\n",
              "  }\n",
              "\n",
              "  .colab-df-quickchart {\n",
              "    background-color: var(--bg-color);\n",
              "    border: none;\n",
              "    border-radius: 50%;\n",
              "    cursor: pointer;\n",
              "    display: none;\n",
              "    fill: var(--fill-color);\n",
              "    height: 32px;\n",
              "    padding: 0;\n",
              "    width: 32px;\n",
              "  }\n",
              "\n",
              "  .colab-df-quickchart:hover {\n",
              "    background-color: var(--hover-bg-color);\n",
              "    box-shadow: 0 1px 2px rgba(60, 64, 67, 0.3), 0 1px 3px 1px rgba(60, 64, 67, 0.15);\n",
              "    fill: var(--button-hover-fill-color);\n",
              "  }\n",
              "\n",
              "  .colab-df-quickchart-complete:disabled,\n",
              "  .colab-df-quickchart-complete:disabled:hover {\n",
              "    background-color: var(--disabled-bg-color);\n",
              "    fill: var(--disabled-fill-color);\n",
              "    box-shadow: none;\n",
              "  }\n",
              "\n",
              "  .colab-df-spinner {\n",
              "    border: 2px solid var(--fill-color);\n",
              "    border-color: transparent;\n",
              "    border-bottom-color: var(--fill-color);\n",
              "    animation:\n",
              "      spin 1s steps(1) infinite;\n",
              "  }\n",
              "\n",
              "  @keyframes spin {\n",
              "    0% {\n",
              "      border-color: transparent;\n",
              "      border-bottom-color: var(--fill-color);\n",
              "      border-left-color: var(--fill-color);\n",
              "    }\n",
              "    20% {\n",
              "      border-color: transparent;\n",
              "      border-left-color: var(--fill-color);\n",
              "      border-top-color: var(--fill-color);\n",
              "    }\n",
              "    30% {\n",
              "      border-color: transparent;\n",
              "      border-left-color: var(--fill-color);\n",
              "      border-top-color: var(--fill-color);\n",
              "      border-right-color: var(--fill-color);\n",
              "    }\n",
              "    40% {\n",
              "      border-color: transparent;\n",
              "      border-right-color: var(--fill-color);\n",
              "      border-top-color: var(--fill-color);\n",
              "    }\n",
              "    60% {\n",
              "      border-color: transparent;\n",
              "      border-right-color: var(--fill-color);\n",
              "    }\n",
              "    80% {\n",
              "      border-color: transparent;\n",
              "      border-right-color: var(--fill-color);\n",
              "      border-bottom-color: var(--fill-color);\n",
              "    }\n",
              "    90% {\n",
              "      border-color: transparent;\n",
              "      border-bottom-color: var(--fill-color);\n",
              "    }\n",
              "  }\n",
              "</style>\n",
              "\n",
              "  <script>\n",
              "    async function quickchart(key) {\n",
              "      const quickchartButtonEl =\n",
              "        document.querySelector('#' + key + ' button');\n",
              "      quickchartButtonEl.disabled = true;  // To prevent multiple clicks.\n",
              "      quickchartButtonEl.classList.add('colab-df-spinner');\n",
              "      try {\n",
              "        const charts = await google.colab.kernel.invokeFunction(\n",
              "            'suggestCharts', [key], {});\n",
              "      } catch (error) {\n",
              "        console.error('Error during call to suggestCharts:', error);\n",
              "      }\n",
              "      quickchartButtonEl.classList.remove('colab-df-spinner');\n",
              "      quickchartButtonEl.classList.add('colab-df-quickchart-complete');\n",
              "    }\n",
              "    (() => {\n",
              "      let quickchartButtonEl =\n",
              "        document.querySelector('#df-ba16ce8b-ad6c-4333-875a-2d87c0e87b59 button');\n",
              "      quickchartButtonEl.style.display =\n",
              "        google.colab.kernel.accessAllowed ? 'block' : 'none';\n",
              "    })();\n",
              "  </script>\n",
              "</div>\n",
              "\n",
              "  <div id=\"id_c9be54f1-970e-4ddb-958f-80f933d52a2e\">\n",
              "    <style>\n",
              "      .colab-df-generate {\n",
              "        background-color: #E8F0FE;\n",
              "        border: none;\n",
              "        border-radius: 50%;\n",
              "        cursor: pointer;\n",
              "        display: none;\n",
              "        fill: #1967D2;\n",
              "        height: 32px;\n",
              "        padding: 0 0 0 0;\n",
              "        width: 32px;\n",
              "      }\n",
              "\n",
              "      .colab-df-generate:hover {\n",
              "        background-color: #E2EBFA;\n",
              "        box-shadow: 0px 1px 2px rgba(60, 64, 67, 0.3), 0px 1px 3px 1px rgba(60, 64, 67, 0.15);\n",
              "        fill: #174EA6;\n",
              "      }\n",
              "\n",
              "      [theme=dark] .colab-df-generate {\n",
              "        background-color: #3B4455;\n",
              "        fill: #D2E3FC;\n",
              "      }\n",
              "\n",
              "      [theme=dark] .colab-df-generate:hover {\n",
              "        background-color: #434B5C;\n",
              "        box-shadow: 0px 1px 3px 1px rgba(0, 0, 0, 0.15);\n",
              "        filter: drop-shadow(0px 1px 2px rgba(0, 0, 0, 0.3));\n",
              "        fill: #FFFFFF;\n",
              "      }\n",
              "    </style>\n",
              "    <button class=\"colab-df-generate\" onclick=\"generateWithVariable('df')\"\n",
              "            title=\"Generate code using this dataframe.\"\n",
              "            style=\"display:none;\">\n",
              "\n",
              "  <svg xmlns=\"http://www.w3.org/2000/svg\" height=\"24px\"viewBox=\"0 0 24 24\"\n",
              "       width=\"24px\">\n",
              "    <path d=\"M7,19H8.4L18.45,9,17,7.55,7,17.6ZM5,21V16.75L18.45,3.32a2,2,0,0,1,2.83,0l1.4,1.43a1.91,1.91,0,0,1,.58,1.4,1.91,1.91,0,0,1-.58,1.4L9.25,21ZM18.45,9,17,7.55Zm-12,3A5.31,5.31,0,0,0,4.9,8.1,5.31,5.31,0,0,0,1,6.5,5.31,5.31,0,0,0,4.9,4.9,5.31,5.31,0,0,0,6.5,1,5.31,5.31,0,0,0,8.1,4.9,5.31,5.31,0,0,0,12,6.5,5.46,5.46,0,0,0,6.5,12Z\"/>\n",
              "  </svg>\n",
              "    </button>\n",
              "    <script>\n",
              "      (() => {\n",
              "      const buttonEl =\n",
              "        document.querySelector('#id_c9be54f1-970e-4ddb-958f-80f933d52a2e button.colab-df-generate');\n",
              "      buttonEl.style.display =\n",
              "        google.colab.kernel.accessAllowed ? 'block' : 'none';\n",
              "\n",
              "      buttonEl.onclick = () => {\n",
              "        google.colab.notebook.generateWithVariable('df');\n",
              "      }\n",
              "      })();\n",
              "    </script>\n",
              "  </div>\n",
              "\n",
              "    </div>\n",
              "  </div>\n"
            ],
            "application/vnd.google.colaboratory.intrinsic+json": {
              "type": "dataframe",
              "variable_name": "df",
              "summary": "{\n  \"name\": \"df\",\n  \"rows\": 642,\n  \"fields\": [\n    {\n      \"column\": \"class\",\n      \"properties\": {\n        \"dtype\": \"number\",\n        \"std\": 0,\n        \"min\": 0,\n        \"max\": 1,\n        \"num_unique_values\": 2,\n        \"samples\": [\n          1,\n          0\n        ],\n        \"semantic_type\": \"\",\n        \"description\": \"\"\n      }\n    },\n    {\n      \"column\": \"message\",\n      \"properties\": {\n        \"dtype\": \"string\",\n        \"num_unique_values\": 640,\n        \"samples\": [\n          \"\\u0e02\\u0e2d\\u0e1a\\u0e0a\\u0e35\\u0e2a\\u0e0b\\u0e35\\u0e48\\u0e40\\u0e1a\\u0e2d\\u0e40\\u0e01\\u0e2d\\u0e23\\u0e4c\\u0e14\\u0e35\\u0e07\\u0e32\\u0e21\\u0e21\\u0e32\\u0e01 \\u0e44\\u0e21\\u0e48\\u0e40\\u0e25\\u0e35\\u0e48\\u0e22\\u0e19\\u0e41\\u0e16\\u0e21\\u0e01\\u0e34\\u0e19\\u0e40\\u0e1e\\u0e25\\u0e34\\u0e19\\u0e40\\u0e1a\\u0e22\",\n          \"\\u0e44\\u0e01\\u0e48 spicy \\u0e40\\u0e1b\\u0e25\\u0e35\\u0e48\\u0e22\\u0e19\\u0e01\\u0e32\\u0e23\\u0e2b\\u0e21\\u0e31\\u0e01\\u0e44\\u0e01\\u0e48\\u0e44\\u0e21\\u0e48\\u0e40\\u0e2b\\u0e21\\u0e37\\u0e2d\\u0e19\\u0e40\\u0e14\\u0e34\\u0e21 \\u0e17\\u0e33\\u0e44\\u0e21\\u0e44\\u0e21\\u0e48\\u0e41\\u0e08\\u0e49\\u0e07\\u0e25\\u0e39\\u0e01\\u0e04\\u0e49\\u0e32\\u0e01\\u0e48\\u0e2d\\u0e19\\u0e04\\u0e30 \\u0e40\\u0e02\\u0e35\\u0e22\\u0e19\\u0e43\\u0e19\\u0e40\\u0e21\\u0e19\\u0e39\\u0e40\\u0e25\\u0e22\\u0e22\\u0e34\\u0e48\\u0e07\\u0e14\\u0e35\\u0e04\\u0e48\\u0e30 \\u0e40\\u0e2a\\u0e35\\u0e22\\u0e04\\u0e27\\u0e32\\u0e21\\u0e23\\u0e39\\u0e49\\u0e2a\\u0e36\\u0e01\\u0e21\\u0e32\\u0e01\\u0e04\\u0e48\\u0e30\"\n        ],\n        \"semantic_type\": \"\",\n        \"description\": \"\"\n      }\n    }\n  ]\n}"
            }
          },
          "metadata": {},
          "execution_count": 4
        }
      ]
    },
    {
      "cell_type": "markdown",
      "source": [
        "### 1.กำหนดค่า feature ในรูปแบบต่างๆ และวิเคราะห์ผลลัพธ์ที่ได้\n",
        "\n",
        "- Bag of Words Term Frequency\n",
        "\n",
        "- Binary Term Frequency\n",
        "\n",
        "- Bigram Term Frequency"
      ],
      "metadata": {
        "id": "mP5_CIJshRWN"
      }
    },
    {
      "cell_type": "markdown",
      "source": [
        "## **Bag of Words Term Frequency**"
      ],
      "metadata": {
        "id": "YKdLC_GQjAHe"
      }
    },
    {
      "cell_type": "code",
      "source": [
        "# ตัดคำใส่ Bag of Words\n",
        "X = df['message'].astype(str) # feature\n",
        "y = df['class'] # lable\n",
        "\n",
        "X_tokenized = X.apply(word_tokenize, keep_whitespace=False)\n",
        "\n",
        "vectorizer_bow = CountVectorizer(analyzer=lambda x: x)\n",
        "X_bow = vectorizer_bow.fit_transform(X_tokenized)\n",
        "print(X_bow.shape)\n"
      ],
      "metadata": {
        "colab": {
          "base_uri": "https://localhost:8080/"
        },
        "id": "lzjfNPSchkNN",
        "outputId": "96c7ffb0-1473-4c8b-bc4a-bcf9f948b00a"
      },
      "execution_count": null,
      "outputs": [
        {
          "output_type": "stream",
          "name": "stdout",
          "text": [
            "(642, 3542)\n"
          ]
        }
      ]
    },
    {
      "cell_type": "markdown",
      "source": [
        "**Naive Bays**"
      ],
      "metadata": {
        "id": "l90PGWA_q1mq"
      }
    },
    {
      "cell_type": "code",
      "source": [
        "# Naive Bays\n",
        "X_train, X_test, y_train, y_test = train_test_split(X_bow, y, test_size=0.2, random_state=8)\n",
        "\n",
        "nb_classifier = MultinomialNB()\n",
        "nb_classifier.fit(X_train, y_train)\n",
        "\n",
        "y_pred = nb_classifier.predict(X_test)\n",
        "accuracy = accuracy_score(y_test, y_pred)\n",
        "print(\"Naive Bays Accuracy:\", accuracy)\n",
        "\n",
        "print(\"Classification Report:\")\n",
        "print(classification_report(y_test, y_pred))\n",
        "\n",
        "\n",
        "print(\"Confusion Matrix:\")\n",
        "print(confusion_matrix(y_test, y_pred))"
      ],
      "metadata": {
        "colab": {
          "base_uri": "https://localhost:8080/"
        },
        "id": "6VE3y8ryjKLR",
        "outputId": "4d2a2a9e-540c-4574-8e8e-4ac42c602a59"
      },
      "execution_count": null,
      "outputs": [
        {
          "output_type": "stream",
          "name": "stdout",
          "text": [
            "Naive Bays Accuracy: 0.937984496124031\n",
            "Classification Report:\n",
            "              precision    recall  f1-score   support\n",
            "\n",
            "           0       0.93      0.97      0.95        77\n",
            "           1       0.96      0.88      0.92        52\n",
            "\n",
            "    accuracy                           0.94       129\n",
            "   macro avg       0.94      0.93      0.93       129\n",
            "weighted avg       0.94      0.94      0.94       129\n",
            "\n",
            "Confusion Matrix:\n",
            "[[75  2]\n",
            " [ 6 46]]\n"
          ]
        }
      ]
    },
    {
      "cell_type": "code",
      "source": [
        "# ทดลองใส่ประโยคใหม่\n",
        "new_text = [\"ดีมากค่ะ แต่แพงขอไม่ซ้ำ\", \"ซื้อซ้ำแน่นอนค่ะ คุณภาพสูงเกิน\", \"แพงมาก เก็บตังไปซื้อข้าวดีกว่า\", \"อร่อยอยู่ค่ะ ไม่แย่\", \"ไม่ตรงปกเลย ได้เช็คของก่อนส่งมั้ยคะ\"]\n",
        "new_text = pd.Series(new_text)\n",
        "new_text_tokenized = new_text.apply(word_tokenize, keep_whitespace=False)\n",
        "new_text_bow = vectorizer_bow.transform(new_text_tokenized)\n",
        "\n",
        "predicted_class = nb_classifier.predict(new_text_bow)\n",
        "print(\"Predicted Class:\", predicted_class) # 1 คือดี 0 คือแย่\n",
        "\n",
        "# คำตอบที่ถูกคือ [0, 1, 0, 1, 0]"
      ],
      "metadata": {
        "colab": {
          "base_uri": "https://localhost:8080/"
        },
        "id": "wiPlNP_8k8QV",
        "outputId": "4a04c7ce-bf6d-4d43-d94c-3880d0d3b1bf"
      },
      "execution_count": null,
      "outputs": [
        {
          "output_type": "stream",
          "name": "stdout",
          "text": [
            "Predicted Class: [1 1 0 0 0]\n"
          ]
        }
      ]
    },
    {
      "cell_type": "markdown",
      "source": [
        "**Logistic regression**"
      ],
      "metadata": {
        "id": "IA_JWjScqwL-"
      }
    },
    {
      "cell_type": "code",
      "source": [
        "# Logistic regression\n",
        "\n",
        "X_train, X_test, y_train, y_test = train_test_split(X_bow, y, test_size=0.2, random_state=8)\n",
        "\n",
        "lr_classifier = LogisticRegression()\n",
        "lr_classifier.fit(X_train, y_train)\n",
        "\n",
        "y_pred = lr_classifier.predict(X_test)\n",
        "accuracy = accuracy_score(y_test, y_pred)\n",
        "print(\"Logistic Regression Accuracy:\", accuracy)\n",
        "\n",
        "print(\"Classification Report:\")\n",
        "print(classification_report(y_test, y_pred))\n",
        "\n",
        "\n",
        "print(\"Confusion Matrix:\")\n",
        "print(confusion_matrix(y_test, y_pred))"
      ],
      "metadata": {
        "colab": {
          "base_uri": "https://localhost:8080/"
        },
        "id": "AvKNM2nJm4bO",
        "outputId": "ca088572-6a0a-4cd0-e179-7e724e6ee09a"
      },
      "execution_count": null,
      "outputs": [
        {
          "output_type": "stream",
          "name": "stdout",
          "text": [
            "Logistic Regression Accuracy: 0.9147286821705426\n",
            "Classification Report:\n",
            "              precision    recall  f1-score   support\n",
            "\n",
            "           0       0.93      0.92      0.93        77\n",
            "           1       0.89      0.90      0.90        52\n",
            "\n",
            "    accuracy                           0.91       129\n",
            "   macro avg       0.91      0.91      0.91       129\n",
            "weighted avg       0.92      0.91      0.91       129\n",
            "\n",
            "Confusion Matrix:\n",
            "[[71  6]\n",
            " [ 5 47]]\n"
          ]
        }
      ]
    },
    {
      "cell_type": "code",
      "source": [
        "# ทดลองใส่ประโยคใหม่\n",
        "new_text = [\"ดีมากค่ะ แต่แพงขอไม่ซ้ำ\", \"ซื้อซ้ำแน่นอนค่ะ คุณภาพสูงเกิน\", \"แพงมาก เก็บตังไปซื้อข้าวดีกว่า\", \"อร่อยอยู่ค่ะ ไม่แย่\", \"ไม่ตรงปกเลย ได้เช็คของก่อนส่งมั้ยคะ\"]\n",
        "new_text = pd.Series(new_text)\n",
        "new_text_tokenized = new_text.apply(word_tokenize, keep_whitespace=False)\n",
        "new_text_bow = vectorizer_bow.transform(new_text_tokenized)\n",
        "\n",
        "predicted_class = lr_classifier.predict(new_text_bow)\n",
        "print(\"Predicted Class:\", predicted_class) # 1 คือดี 0 คือแย่\n",
        "\n",
        "# คำตอบที่ถูกคือ [0, 1, 0, 1, 0]"
      ],
      "metadata": {
        "colab": {
          "base_uri": "https://localhost:8080/"
        },
        "id": "rT4R5XgznwDy",
        "outputId": "3a3d4265-74f8-4bae-bff0-6344d65cb037"
      },
      "execution_count": null,
      "outputs": [
        {
          "output_type": "stream",
          "name": "stdout",
          "text": [
            "Predicted Class: [1 1 1 0 0]\n"
          ]
        }
      ]
    },
    {
      "cell_type": "markdown",
      "source": [
        "## **Binary Term Frequency**"
      ],
      "metadata": {
        "id": "iyQFU3LwsKd-"
      }
    },
    {
      "cell_type": "code",
      "source": [
        "# ตัดคำ Binary Term\n",
        "X = df['message'].astype(str)\n",
        "y = df['class']\n",
        "\n",
        "vectorizer_bt = CountVectorizer(binary=True)\n",
        "X_bt = vectorizer_bt.fit_transform(X)\n",
        "print(X_bt.shape)\n"
      ],
      "metadata": {
        "colab": {
          "base_uri": "https://localhost:8080/"
        },
        "id": "yF0MVGQEsOqD",
        "outputId": "a2836c59-fe31-497f-b5d0-312cddcacb40"
      },
      "execution_count": null,
      "outputs": [
        {
          "output_type": "stream",
          "name": "stdout",
          "text": [
            "(642, 8183)\n"
          ]
        }
      ]
    },
    {
      "cell_type": "markdown",
      "source": [
        "**Naive Bays**"
      ],
      "metadata": {
        "id": "oahYYjC0tD7L"
      }
    },
    {
      "cell_type": "code",
      "source": [
        "# Naive Bays\n",
        "X_train, X_test, y_train, y_test = train_test_split(X_bt, y, test_size=0.2, random_state=8)\n",
        "\n",
        "nb_classifier_bt = MultinomialNB()\n",
        "nb_classifier_bt.fit(X_train, y_train)\n",
        "\n",
        "y_pred = nb_classifier_bt.predict(X_test)\n",
        "accuracy = accuracy_score(y_test, y_pred)\n",
        "print(\"Naive Bays use binary term Accuracy:\", accuracy)\n",
        "\n",
        "print(\"Classification Report:\")\n",
        "print(classification_report(y_test, y_pred))\n",
        "\n",
        "\n",
        "print(\"Confusion Matrix:\")\n",
        "print(confusion_matrix(y_test, y_pred))"
      ],
      "metadata": {
        "colab": {
          "base_uri": "https://localhost:8080/"
        },
        "id": "lj5QkAoTtDQv",
        "outputId": "76bfb14a-1252-45ae-defa-7ecca98fecf2"
      },
      "execution_count": null,
      "outputs": [
        {
          "output_type": "stream",
          "name": "stdout",
          "text": [
            "Naive Bays use binary term Accuracy: 0.9147286821705426\n",
            "Classification Report:\n",
            "              precision    recall  f1-score   support\n",
            "\n",
            "           0       0.92      0.94      0.93        77\n",
            "           1       0.90      0.88      0.89        52\n",
            "\n",
            "    accuracy                           0.91       129\n",
            "   macro avg       0.91      0.91      0.91       129\n",
            "weighted avg       0.91      0.91      0.91       129\n",
            "\n",
            "Confusion Matrix:\n",
            "[[72  5]\n",
            " [ 6 46]]\n"
          ]
        }
      ]
    },
    {
      "cell_type": "code",
      "source": [
        "# ทดลองใส่ประโยคใหม่\n",
        "new_text = [\"ดีมากค่ะ แต่แพงขอไม่ซ้ำ\", \"ซื้อซ้ำแน่นอนค่ะ คุณภาพสูงเกิน\", \"แพงมาก เก็บตังไปซื้อข้าวดีกว่า\", \"อร่อยอยู่ค่ะ ไม่แย่\", \"ไม่ตรงปกเลย ได้เช็คของก่อนส่งมั้ยคะ\"]\n",
        "new_text = pd.Series(new_text)\n",
        "new_text_tokenized = new_text.apply(lambda x: ' '.join(word_tokenize(x, keep_whitespace=False)))\n",
        "new_text_bt = vectorizer_bt.transform(new_text_tokenized)\n",
        "\n",
        "predicted_class = nb_classifier_bt.predict(new_text_bt)\n",
        "print(\"Predicted Class:\", predicted_class) # 1 คือดี 0 คือแย่\n",
        "\n",
        "# คำตอบที่ถูกคือ [0, 1, 0, 1, 0]"
      ],
      "metadata": {
        "colab": {
          "base_uri": "https://localhost:8080/"
        },
        "id": "ynaRqWiwt9G1",
        "outputId": "f6445cc6-21a6-4e6c-f9ee-99e2bd47b0a8"
      },
      "execution_count": null,
      "outputs": [
        {
          "output_type": "stream",
          "name": "stdout",
          "text": [
            "Predicted Class: [0 1 0 0 0]\n"
          ]
        }
      ]
    },
    {
      "cell_type": "markdown",
      "source": [
        "**Logistic Regression**"
      ],
      "metadata": {
        "id": "l5VPaZ7_vIiW"
      }
    },
    {
      "cell_type": "code",
      "source": [
        "# Logistic Regression\n",
        "\n",
        "X_train, X_test, y_train, y_test = train_test_split(X_bt, y, test_size=0.2, random_state=8)\n",
        "\n",
        "lr_classifier_bt = LogisticRegression()\n",
        "lr_classifier_bt.fit(X_train, y_train)\n",
        "\n",
        "y_pred = lr_classifier_bt.predict(X_test)\n",
        "accuracy = accuracy_score(y_test, y_pred)\n",
        "print(\"Logistic Regression use binary term Accuracy:\", accuracy)\n",
        "\n",
        "print(\"Classification Report:\")\n",
        "print(classification_report(y_test, y_pred))\n",
        "\n",
        "\n",
        "print(\"Confusion Matrix:\")\n",
        "print(confusion_matrix(y_test, y_pred))"
      ],
      "metadata": {
        "colab": {
          "base_uri": "https://localhost:8080/"
        },
        "id": "f6J_zb9AvFHC",
        "outputId": "836664c9-bdbf-45bd-f47a-ef7caa1312f4"
      },
      "execution_count": null,
      "outputs": [
        {
          "output_type": "stream",
          "name": "stdout",
          "text": [
            "Logistic Regression use binary term Accuracy: 0.875968992248062\n",
            "Classification Report:\n",
            "              precision    recall  f1-score   support\n",
            "\n",
            "           0       0.93      0.86      0.89        77\n",
            "           1       0.81      0.90      0.85        52\n",
            "\n",
            "    accuracy                           0.88       129\n",
            "   macro avg       0.87      0.88      0.87       129\n",
            "weighted avg       0.88      0.88      0.88       129\n",
            "\n",
            "Confusion Matrix:\n",
            "[[66 11]\n",
            " [ 5 47]]\n"
          ]
        }
      ]
    },
    {
      "cell_type": "code",
      "source": [
        "# ทดลองใส่ประโยคใหม่\n",
        "new_text = [\"ดีมากค่ะ แต่แพงขอไม่ซ้ำ\", \"ซื้อซ้ำแน่นอนค่ะ คุณภาพสูงเกิน\", \"แพงมาก เก็บตังไปซื้อข้าวดีกว่า\", \"อร่อยอยู่ค่ะ ไม่แย่\", \"ไม่ตรงปกเลย ได้เช็คของก่อนส่งมั้ยคะ\"]\n",
        "new_text = pd.Series(new_text)\n",
        "new_text_tokenized = new_text.apply(lambda x: ' '.join(word_tokenize(x, keep_whitespace=False)))\n",
        "new_text_bt = vectorizer_bt.transform(new_text_tokenized)\n",
        "\n",
        "predicted_class = lr_classifier_bt.predict(new_text_bt)\n",
        "print(\"Predicted Class:\", predicted_class) # 1 คือดี 0 คือแย่\n",
        "\n",
        "# คำตอบที่ถูกคือ [0, 1, 0, 1, 0]"
      ],
      "metadata": {
        "colab": {
          "base_uri": "https://localhost:8080/"
        },
        "id": "PMAj-gnGvelq",
        "outputId": "073e289b-7eea-4768-df52-0a20081e5ec0"
      },
      "execution_count": null,
      "outputs": [
        {
          "output_type": "stream",
          "name": "stdout",
          "text": [
            "Predicted Class: [0 1 1 0 0]\n"
          ]
        }
      ]
    },
    {
      "cell_type": "markdown",
      "source": [
        "## **Bigram Term Frequency**"
      ],
      "metadata": {
        "id": "hOFLO-wxvkbZ"
      }
    },
    {
      "cell_type": "code",
      "source": [
        "# ตัดคำ Bigram Term\n",
        "X = df['message'].astype(str)\n",
        "y = df['class']\n",
        "\n",
        "vectorizer_bg = CountVectorizer(ngram_range=(2, 2), max_features=2)\n",
        "X_bg = vectorizer_bg.fit_transform(X)\n",
        "print(X_bg.shape)"
      ],
      "metadata": {
        "colab": {
          "base_uri": "https://localhost:8080/"
        },
        "id": "QYZc3yhnvoXG",
        "outputId": "dfaee965-809a-43dd-cf77-e16d70e8b462"
      },
      "execution_count": null,
      "outputs": [
        {
          "output_type": "stream",
          "name": "stdout",
          "text": [
            "(642, 2)\n"
          ]
        }
      ]
    },
    {
      "cell_type": "markdown",
      "source": [
        "**Naive Bayes**"
      ],
      "metadata": {
        "id": "1JDJKRdSwCc1"
      }
    },
    {
      "cell_type": "code",
      "source": [
        "# Naive Bayes\n",
        "X_train, X_test, y_train, y_test = train_test_split(X_bg, y, test_size=0.2, random_state=8)\n",
        "\n",
        "nb_classifier_bg = MultinomialNB()\n",
        "nb_classifier_bg.fit(X_train, y_train)\n",
        "\n",
        "y_pred = nb_classifier_bg.predict(X_test)\n",
        "accuracy = accuracy_score(y_test, y_pred)\n",
        "print(\"Naive Bays use bigram term Accuracy:\", accuracy)\n",
        "\n",
        "print(\"Classification Report:\")\n",
        "print(classification_report(y_test, y_pred))\n",
        "\n",
        "\n",
        "print(\"Confusion Matrix:\")\n",
        "print(confusion_matrix(y_test, y_pred))"
      ],
      "metadata": {
        "colab": {
          "base_uri": "https://localhost:8080/"
        },
        "id": "JrtDIQdHwHIH",
        "outputId": "862176fd-23f1-4a4b-e5b5-a9d488393b1d"
      },
      "execution_count": null,
      "outputs": [
        {
          "output_type": "stream",
          "name": "stdout",
          "text": [
            "Naive Bays use bigram term Accuracy: 0.6976744186046512\n",
            "Classification Report:\n",
            "              precision    recall  f1-score   support\n",
            "\n",
            "           0       0.66      1.00      0.80        77\n",
            "           1       1.00      0.25      0.40        52\n",
            "\n",
            "    accuracy                           0.70       129\n",
            "   macro avg       0.83      0.62      0.60       129\n",
            "weighted avg       0.80      0.70      0.64       129\n",
            "\n",
            "Confusion Matrix:\n",
            "[[77  0]\n",
            " [39 13]]\n"
          ]
        }
      ]
    },
    {
      "cell_type": "code",
      "source": [
        "# ทดลองใส่ประโยคใหม่\n",
        "new_text = [\"ดีมากค่ะ แต่แพงขอไม่ซ้ำ\", \"ซื้อซ้ำแน่นอนค่ะ คุณภาพสูงเกิน\", \"แพงมาก เก็บตังไปซื้อข้าวดีกว่า\", \"อร่อยอยู่ค่ะ ไม่แย่\", \"ไม่ตรงปกเลย ได้เช็คของก่อนส่งมั้ยคะ\"]\n",
        "new_text = pd.Series(new_text)\n",
        "new_text_tokenized = new_text.apply(lambda x: ' '.join(word_tokenize(x, keep_whitespace=False)))\n",
        "new_text_bg = vectorizer_bg.transform(new_text_tokenized)\n",
        "\n",
        "predicted_class = nb_classifier_bg.predict(new_text_bg)\n",
        "print(\"Predicted Class:\", predicted_class) # 1 คือดี 0 คือแย่\n",
        "\n",
        "# คำตอบที่ถูกคือ [0, 1, 0, 1, 0]"
      ],
      "metadata": {
        "colab": {
          "base_uri": "https://localhost:8080/"
        },
        "id": "UkktViOWwVDn",
        "outputId": "ec320753-45ca-4cb5-d562-e682132332c4"
      },
      "execution_count": null,
      "outputs": [
        {
          "output_type": "stream",
          "name": "stdout",
          "text": [
            "Predicted Class: [0 0 0 0 0]\n"
          ]
        }
      ]
    },
    {
      "cell_type": "markdown",
      "source": [
        "**Logistic Regression**"
      ],
      "metadata": {
        "id": "FlyP_b6Iwd4Y"
      }
    },
    {
      "cell_type": "code",
      "source": [
        "# Logistic Regression\n",
        "X_train, X_test, y_train, y_test = train_test_split(X_bg, y, test_size=0.2, random_state=8)\n",
        "\n",
        "lr_classifier_bg = LogisticRegression()\n",
        "lr_classifier_bg.fit(X_train, y_train)\n",
        "\n",
        "y_pred = lr_classifier_bg.predict(X_test)\n",
        "accuracy = accuracy_score(y_test, y_pred)\n",
        "print(\"Logistic Regression use binary term Accuracy:\", accuracy)\n",
        "\n",
        "print(\"Classification Report:\")\n",
        "print(classification_report(y_test, y_pred))\n",
        "\n",
        "\n",
        "print(\"Confusion Matrix:\")\n",
        "print(confusion_matrix(y_test, y_pred))"
      ],
      "metadata": {
        "colab": {
          "base_uri": "https://localhost:8080/"
        },
        "id": "gFb8fUbNwgY4",
        "outputId": "d399ccfd-2b27-4632-f591-af3d3e327835"
      },
      "execution_count": null,
      "outputs": [
        {
          "output_type": "stream",
          "name": "stdout",
          "text": [
            "Logistic Regression use binary term Accuracy: 0.6976744186046512\n",
            "Classification Report:\n",
            "              precision    recall  f1-score   support\n",
            "\n",
            "           0       0.66      1.00      0.80        77\n",
            "           1       1.00      0.25      0.40        52\n",
            "\n",
            "    accuracy                           0.70       129\n",
            "   macro avg       0.83      0.62      0.60       129\n",
            "weighted avg       0.80      0.70      0.64       129\n",
            "\n",
            "Confusion Matrix:\n",
            "[[77  0]\n",
            " [39 13]]\n"
          ]
        }
      ]
    },
    {
      "cell_type": "code",
      "source": [
        "# ทดลองใส่ประโยคใหม่\n",
        "new_text = [\"ดีมากค่ะ แต่แพงขอไม่ซ้ำ\", \"ซื้อซ้ำแน่นอนค่ะ คุณภาพสูงเกิน\", \"แพงมาก เก็บตังไปซื้อข้าวดีกว่า\", \"อร่อยอยู่ค่ะ ไม่แย่\", \"ไม่ตรงปกเลย ได้เช็คของก่อนส่งมั้ยคะ\"]\n",
        "new_text = pd.Series(new_text)\n",
        "new_text_tokenized = new_text.apply(lambda x: ' '.join(word_tokenize(x, keep_whitespace=False)))\n",
        "new_text_bg = vectorizer_bg.transform(new_text_tokenized)\n",
        "\n",
        "predicted_class = lr_classifier_bg.predict(new_text_bg)\n",
        "print(\"Predicted Class:\", predicted_class) # 1 คือดี 0 คือแย่\n",
        "\n",
        "# คำตอบที่ถูกคือ [0, 1, 0, 1, 0]"
      ],
      "metadata": {
        "colab": {
          "base_uri": "https://localhost:8080/"
        },
        "id": "V1vO0aLaw36I",
        "outputId": "acb0b04a-4677-41d0-996b-4c9b8820a56f"
      },
      "execution_count": null,
      "outputs": [
        {
          "output_type": "stream",
          "name": "stdout",
          "text": [
            "Predicted Class: [0 0 0 0 0]\n"
          ]
        }
      ]
    },
    {
      "cell_type": "markdown",
      "source": [
        "คะแนนความถูกต้องที่ได้จากตัวเทรน (Accuracy Score) ได้ดังนี้\n",
        "\n",
        "**Bag of Words Term Frequency**\n",
        "- Naive Bayes 0.93\n",
        "- Logistic Regression 0.91\n",
        "\n",
        "**Binary Term Frequency**\n",
        "- Naive Bayes 0.91\n",
        "- Logistic Regression 0.87\n",
        "\n",
        "**Bigram Term Frequency**\n",
        "- Naive Bayes 0.69\n",
        "- Logistic Regression 0.69\n",
        "\n",
        "\n",
        "คะแนนความถูกต้องของประโยคที่เพิ่มใหม่ของแต่ละโมเดล ได้ดังนี้\n",
        "\n",
        "**Bag of Words Term Frequency**\n",
        "- Naive Bayes 3/5\n",
        "- Logistic Regression 2/5\n",
        "\n",
        "**Binary Term Frequency**\n",
        "- Naive Bayes 4/5\n",
        "- Logistic Regression 3/5\n",
        "\n",
        "**Bigram Term Frequency**\n",
        "- Naive Bayes 3/5\n",
        "- Logistic Regression 3/5\n",
        "\n",
        "\n",
        "\n",
        "> ตัว Bigram Term Frequency ไม่ว่าใช้กับโมเดลไหนก็ได้คะแนนเท่า ๆ กัน ไม่ต่างกันมาก\n",
        "\n",
        "\n",
        "\n",
        "> ตัวโมเดล Naive Bayes ที่ใช้ Binary Term Frequency ได้คะแนนความถูกต้องข้อมูลเทรนใกล้เคียงกับโมเดล Logistic Regression ที่ใช้ Bag of Words Term Frequency แต่โมเดล Naive Bayes ที่ใช้ Binary Term Frequency ที่ทดลองด้วยประโยคใหม่ ได้คะแนนความถูกต้องมากกว่าโมเดล Logistic Regression ที่ใช้ Bag of Words Term Frequency\n",
        "\n"
      ],
      "metadata": {
        "id": "lBllmRpJxKUB"
      }
    }
  ]
}